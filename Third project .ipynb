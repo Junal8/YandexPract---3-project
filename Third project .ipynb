{
 "cells": [
  {
   "cell_type": "markdown",
   "metadata": {},
   "source": [
    "# Исследование объявлений о продаже квартир\n",
    "\n",
    "В вашем распоряжении данные сервиса Яндекс.Недвижимость — архив объявлений о продаже квартир в Санкт-Петербурге и соседних населённых пунктов за несколько лет. Нужно научиться определять рыночную стоимость объектов недвижимости. Ваша задача — установить параметры. Это позволит построить автоматизированную систему: она отследит аномалии и мошенническую деятельность. \n",
    "\n",
    "По каждой квартире на продажу доступны два вида данных. Первые вписаны пользователем, вторые — получены автоматически на основе картографических данных. Например, расстояние до центра, аэропорта, ближайшего парка и водоёма. "
   ]
  },
  {
   "cell_type": "markdown",
   "metadata": {},
   "source": [
    "### Шаг 1. Откроем файл с данными и изучим общую информацию. "
   ]
  },
  {
   "cell_type": "code",
   "execution_count": 1,
   "metadata": {},
   "outputs": [
    {
     "name": "stderr",
     "output_type": "stream",
     "text": [
      "/opt/conda/lib/python3.7/site-packages/ipykernel_launcher.py:6: ParserWarning: Falling back to the 'python' engine because the 'c' engine does not support regex separators (separators > 1 char and different from '\\s+' are interpreted as regex); you can avoid this warning by specifying engine='python'.\n",
      "  \n"
     ]
    },
    {
     "name": "stdout",
     "output_type": "stream",
     "text": [
      "<class 'pandas.core.frame.DataFrame'>\n",
      "RangeIndex: 23699 entries, 0 to 23698\n",
      "Data columns (total 22 columns):\n",
      "total_images            23699 non-null int64\n",
      "last_price              23699 non-null float64\n",
      "total_area              23699 non-null float64\n",
      "first_day_exposition    23699 non-null object\n",
      "rooms                   23699 non-null int64\n",
      "ceiling_height          14504 non-null float64\n",
      "floors_total            23613 non-null float64\n",
      "living_area             21796 non-null float64\n",
      "floor                   23699 non-null int64\n",
      "is_apartment            2775 non-null object\n",
      "studio                  23699 non-null bool\n",
      "open_plan               23699 non-null bool\n",
      "kitchen_area            21421 non-null float64\n",
      "balcony                 12180 non-null float64\n",
      "locality_name           23650 non-null object\n",
      "airports_nearest        18157 non-null float64\n",
      "cityCenters_nearest     18180 non-null float64\n",
      "parks_around3000        18181 non-null float64\n",
      "parks_nearest           8079 non-null float64\n",
      "ponds_around3000        18181 non-null float64\n",
      "ponds_nearest           9110 non-null float64\n",
      "days_exposition         20518 non-null float64\n",
      "dtypes: bool(2), float64(14), int64(3), object(3)\n",
      "memory usage: 3.7+ MB\n"
     ]
    },
    {
     "data": {
      "text/html": [
       "<div>\n",
       "<style scoped>\n",
       "    .dataframe tbody tr th:only-of-type {\n",
       "        vertical-align: middle;\n",
       "    }\n",
       "\n",
       "    .dataframe tbody tr th {\n",
       "        vertical-align: top;\n",
       "    }\n",
       "\n",
       "    .dataframe thead th {\n",
       "        text-align: right;\n",
       "    }\n",
       "</style>\n",
       "<table border=\"1\" class=\"dataframe\">\n",
       "  <thead>\n",
       "    <tr style=\"text-align: right;\">\n",
       "      <th></th>\n",
       "      <th>total_images</th>\n",
       "      <th>last_price</th>\n",
       "      <th>total_area</th>\n",
       "      <th>first_day_exposition</th>\n",
       "      <th>rooms</th>\n",
       "      <th>ceiling_height</th>\n",
       "      <th>floors_total</th>\n",
       "      <th>living_area</th>\n",
       "      <th>floor</th>\n",
       "      <th>is_apartment</th>\n",
       "      <th>...</th>\n",
       "      <th>kitchen_area</th>\n",
       "      <th>balcony</th>\n",
       "      <th>locality_name</th>\n",
       "      <th>airports_nearest</th>\n",
       "      <th>cityCenters_nearest</th>\n",
       "      <th>parks_around3000</th>\n",
       "      <th>parks_nearest</th>\n",
       "      <th>ponds_around3000</th>\n",
       "      <th>ponds_nearest</th>\n",
       "      <th>days_exposition</th>\n",
       "    </tr>\n",
       "  </thead>\n",
       "  <tbody>\n",
       "    <tr>\n",
       "      <td>21661</td>\n",
       "      <td>5</td>\n",
       "      <td>5265000.0</td>\n",
       "      <td>53.47</td>\n",
       "      <td>2018-02-21T00:00:00</td>\n",
       "      <td>2</td>\n",
       "      <td>2.7</td>\n",
       "      <td>25.0</td>\n",
       "      <td>29.67</td>\n",
       "      <td>21</td>\n",
       "      <td>NaN</td>\n",
       "      <td>...</td>\n",
       "      <td>8.95</td>\n",
       "      <td>2.0</td>\n",
       "      <td>Санкт-Петербург</td>\n",
       "      <td>39180.0</td>\n",
       "      <td>16002.0</td>\n",
       "      <td>0.0</td>\n",
       "      <td>NaN</td>\n",
       "      <td>1.0</td>\n",
       "      <td>930.0</td>\n",
       "      <td>60.0</td>\n",
       "    </tr>\n",
       "    <tr>\n",
       "      <td>12090</td>\n",
       "      <td>9</td>\n",
       "      <td>4350000.0</td>\n",
       "      <td>33.00</td>\n",
       "      <td>2016-11-26T00:00:00</td>\n",
       "      <td>1</td>\n",
       "      <td>NaN</td>\n",
       "      <td>22.0</td>\n",
       "      <td>NaN</td>\n",
       "      <td>9</td>\n",
       "      <td>NaN</td>\n",
       "      <td>...</td>\n",
       "      <td>NaN</td>\n",
       "      <td>0.0</td>\n",
       "      <td>Санкт-Петербург</td>\n",
       "      <td>9258.0</td>\n",
       "      <td>10592.0</td>\n",
       "      <td>1.0</td>\n",
       "      <td>458.0</td>\n",
       "      <td>0.0</td>\n",
       "      <td>NaN</td>\n",
       "      <td>181.0</td>\n",
       "    </tr>\n",
       "    <tr>\n",
       "      <td>7888</td>\n",
       "      <td>1</td>\n",
       "      <td>1000000.0</td>\n",
       "      <td>31.40</td>\n",
       "      <td>2017-12-07T00:00:00</td>\n",
       "      <td>1</td>\n",
       "      <td>2.6</td>\n",
       "      <td>4.0</td>\n",
       "      <td>NaN</td>\n",
       "      <td>3</td>\n",
       "      <td>NaN</td>\n",
       "      <td>...</td>\n",
       "      <td>NaN</td>\n",
       "      <td>1.0</td>\n",
       "      <td>городской посёлок Назия</td>\n",
       "      <td>NaN</td>\n",
       "      <td>NaN</td>\n",
       "      <td>NaN</td>\n",
       "      <td>NaN</td>\n",
       "      <td>NaN</td>\n",
       "      <td>NaN</td>\n",
       "      <td>47.0</td>\n",
       "    </tr>\n",
       "    <tr>\n",
       "      <td>7870</td>\n",
       "      <td>10</td>\n",
       "      <td>3200000.0</td>\n",
       "      <td>36.70</td>\n",
       "      <td>2018-10-09T00:00:00</td>\n",
       "      <td>1</td>\n",
       "      <td>NaN</td>\n",
       "      <td>22.0</td>\n",
       "      <td>14.70</td>\n",
       "      <td>22</td>\n",
       "      <td>NaN</td>\n",
       "      <td>...</td>\n",
       "      <td>10.90</td>\n",
       "      <td>2.0</td>\n",
       "      <td>Санкт-Петербург</td>\n",
       "      <td>41561.0</td>\n",
       "      <td>20878.0</td>\n",
       "      <td>0.0</td>\n",
       "      <td>NaN</td>\n",
       "      <td>1.0</td>\n",
       "      <td>394.0</td>\n",
       "      <td>50.0</td>\n",
       "    </tr>\n",
       "    <tr>\n",
       "      <td>527</td>\n",
       "      <td>15</td>\n",
       "      <td>4200000.0</td>\n",
       "      <td>57.00</td>\n",
       "      <td>2018-08-07T00:00:00</td>\n",
       "      <td>3</td>\n",
       "      <td>2.5</td>\n",
       "      <td>5.0</td>\n",
       "      <td>40.00</td>\n",
       "      <td>2</td>\n",
       "      <td>NaN</td>\n",
       "      <td>...</td>\n",
       "      <td>6.00</td>\n",
       "      <td>NaN</td>\n",
       "      <td>Санкт-Петербург</td>\n",
       "      <td>19455.0</td>\n",
       "      <td>18458.0</td>\n",
       "      <td>1.0</td>\n",
       "      <td>534.0</td>\n",
       "      <td>1.0</td>\n",
       "      <td>518.0</td>\n",
       "      <td>94.0</td>\n",
       "    </tr>\n",
       "  </tbody>\n",
       "</table>\n",
       "<p>5 rows × 22 columns</p>\n",
       "</div>"
      ],
      "text/plain": [
       "       total_images  last_price  total_area first_day_exposition  rooms  \\\n",
       "21661             5   5265000.0       53.47  2018-02-21T00:00:00      2   \n",
       "12090             9   4350000.0       33.00  2016-11-26T00:00:00      1   \n",
       "7888              1   1000000.0       31.40  2017-12-07T00:00:00      1   \n",
       "7870             10   3200000.0       36.70  2018-10-09T00:00:00      1   \n",
       "527              15   4200000.0       57.00  2018-08-07T00:00:00      3   \n",
       "\n",
       "       ceiling_height  floors_total  living_area  floor is_apartment  ...  \\\n",
       "21661             2.7          25.0        29.67     21          NaN  ...   \n",
       "12090             NaN          22.0          NaN      9          NaN  ...   \n",
       "7888              2.6           4.0          NaN      3          NaN  ...   \n",
       "7870              NaN          22.0        14.70     22          NaN  ...   \n",
       "527               2.5           5.0        40.00      2          NaN  ...   \n",
       "\n",
       "       kitchen_area  balcony            locality_name  airports_nearest  \\\n",
       "21661          8.95      2.0          Санкт-Петербург           39180.0   \n",
       "12090           NaN      0.0          Санкт-Петербург            9258.0   \n",
       "7888            NaN      1.0  городской посёлок Назия               NaN   \n",
       "7870          10.90      2.0          Санкт-Петербург           41561.0   \n",
       "527            6.00      NaN          Санкт-Петербург           19455.0   \n",
       "\n",
       "      cityCenters_nearest  parks_around3000  parks_nearest  ponds_around3000  \\\n",
       "21661             16002.0               0.0            NaN               1.0   \n",
       "12090             10592.0               1.0          458.0               0.0   \n",
       "7888                  NaN               NaN            NaN               NaN   \n",
       "7870              20878.0               0.0            NaN               1.0   \n",
       "527               18458.0               1.0          534.0               1.0   \n",
       "\n",
       "       ponds_nearest  days_exposition  \n",
       "21661          930.0             60.0  \n",
       "12090            NaN            181.0  \n",
       "7888             NaN             47.0  \n",
       "7870           394.0             50.0  \n",
       "527            518.0             94.0  \n",
       "\n",
       "[5 rows x 22 columns]"
      ]
     },
     "metadata": {},
     "output_type": "display_data"
    },
    {
     "data": {
      "text/html": [
       "<style  type=\"text/css\" >\n",
       "    #T_6d52487a_7683_11eb_8c83_02420a399554row0_col0 {\n",
       "            background-color:  #3b4cc0;\n",
       "            color:  #f1f1f1;\n",
       "        }    #T_6d52487a_7683_11eb_8c83_02420a399554row1_col0 {\n",
       "            background-color:  #3b4cc0;\n",
       "            color:  #f1f1f1;\n",
       "        }    #T_6d52487a_7683_11eb_8c83_02420a399554row2_col0 {\n",
       "            background-color:  #3b4cc0;\n",
       "            color:  #f1f1f1;\n",
       "        }    #T_6d52487a_7683_11eb_8c83_02420a399554row3_col0 {\n",
       "            background-color:  #3b4cc0;\n",
       "            color:  #f1f1f1;\n",
       "        }    #T_6d52487a_7683_11eb_8c83_02420a399554row4_col0 {\n",
       "            background-color:  #3b4cc0;\n",
       "            color:  #f1f1f1;\n",
       "        }    #T_6d52487a_7683_11eb_8c83_02420a399554row5_col0 {\n",
       "            background-color:  #ccd9ed;\n",
       "            color:  #000000;\n",
       "        }    #T_6d52487a_7683_11eb_8c83_02420a399554row6_col0 {\n",
       "            background-color:  #3c4ec2;\n",
       "            color:  #f1f1f1;\n",
       "        }    #T_6d52487a_7683_11eb_8c83_02420a399554row7_col0 {\n",
       "            background-color:  #5673e0;\n",
       "            color:  #000000;\n",
       "        }    #T_6d52487a_7683_11eb_8c83_02420a399554row8_col0 {\n",
       "            background-color:  #3b4cc0;\n",
       "            color:  #f1f1f1;\n",
       "        }    #T_6d52487a_7683_11eb_8c83_02420a399554row9_col0 {\n",
       "            background-color:  #b40426;\n",
       "            color:  #f1f1f1;\n",
       "        }    #T_6d52487a_7683_11eb_8c83_02420a399554row10_col0 {\n",
       "            background-color:  #3b4cc0;\n",
       "            color:  #f1f1f1;\n",
       "        }    #T_6d52487a_7683_11eb_8c83_02420a399554row11_col0 {\n",
       "            background-color:  #3b4cc0;\n",
       "            color:  #f1f1f1;\n",
       "        }    #T_6d52487a_7683_11eb_8c83_02420a399554row12_col0 {\n",
       "            background-color:  #5b7ae5;\n",
       "            color:  #000000;\n",
       "        }    #T_6d52487a_7683_11eb_8c83_02420a399554row13_col0 {\n",
       "            background-color:  #e9d5cb;\n",
       "            color:  #000000;\n",
       "        }    #T_6d52487a_7683_11eb_8c83_02420a399554row14_col0 {\n",
       "            background-color:  #3b4cc0;\n",
       "            color:  #f1f1f1;\n",
       "        }    #T_6d52487a_7683_11eb_8c83_02420a399554row15_col0 {\n",
       "            background-color:  #92b4fe;\n",
       "            color:  #000000;\n",
       "        }    #T_6d52487a_7683_11eb_8c83_02420a399554row16_col0 {\n",
       "            background-color:  #92b4fe;\n",
       "            color:  #000000;\n",
       "        }    #T_6d52487a_7683_11eb_8c83_02420a399554row17_col0 {\n",
       "            background-color:  #92b4fe;\n",
       "            color:  #000000;\n",
       "        }    #T_6d52487a_7683_11eb_8c83_02420a399554row18_col0 {\n",
       "            background-color:  #f49a7b;\n",
       "            color:  #000000;\n",
       "        }    #T_6d52487a_7683_11eb_8c83_02420a399554row19_col0 {\n",
       "            background-color:  #92b4fe;\n",
       "            color:  #000000;\n",
       "        }    #T_6d52487a_7683_11eb_8c83_02420a399554row20_col0 {\n",
       "            background-color:  #f7ad90;\n",
       "            color:  #000000;\n",
       "        }    #T_6d52487a_7683_11eb_8c83_02420a399554row21_col0 {\n",
       "            background-color:  #6a8bef;\n",
       "            color:  #000000;\n",
       "        }</style><table id=\"T_6d52487a_7683_11eb_8c83_02420a399554\" ><thead>    <tr>        <th class=\"blank level0\" ></th>        <th class=\"col_heading level0 col0\" >0</th>    </tr></thead><tbody>\n",
       "                <tr>\n",
       "                        <th id=\"T_6d52487a_7683_11eb_8c83_02420a399554level0_row0\" class=\"row_heading level0 row0\" >total_images</th>\n",
       "                        <td id=\"T_6d52487a_7683_11eb_8c83_02420a399554row0_col0\" class=\"data row0 col0\" >0</td>\n",
       "            </tr>\n",
       "            <tr>\n",
       "                        <th id=\"T_6d52487a_7683_11eb_8c83_02420a399554level0_row1\" class=\"row_heading level0 row1\" >last_price</th>\n",
       "                        <td id=\"T_6d52487a_7683_11eb_8c83_02420a399554row1_col0\" class=\"data row1 col0\" >0</td>\n",
       "            </tr>\n",
       "            <tr>\n",
       "                        <th id=\"T_6d52487a_7683_11eb_8c83_02420a399554level0_row2\" class=\"row_heading level0 row2\" >total_area</th>\n",
       "                        <td id=\"T_6d52487a_7683_11eb_8c83_02420a399554row2_col0\" class=\"data row2 col0\" >0</td>\n",
       "            </tr>\n",
       "            <tr>\n",
       "                        <th id=\"T_6d52487a_7683_11eb_8c83_02420a399554level0_row3\" class=\"row_heading level0 row3\" >first_day_exposition</th>\n",
       "                        <td id=\"T_6d52487a_7683_11eb_8c83_02420a399554row3_col0\" class=\"data row3 col0\" >0</td>\n",
       "            </tr>\n",
       "            <tr>\n",
       "                        <th id=\"T_6d52487a_7683_11eb_8c83_02420a399554level0_row4\" class=\"row_heading level0 row4\" >rooms</th>\n",
       "                        <td id=\"T_6d52487a_7683_11eb_8c83_02420a399554row4_col0\" class=\"data row4 col0\" >0</td>\n",
       "            </tr>\n",
       "            <tr>\n",
       "                        <th id=\"T_6d52487a_7683_11eb_8c83_02420a399554level0_row5\" class=\"row_heading level0 row5\" >ceiling_height</th>\n",
       "                        <td id=\"T_6d52487a_7683_11eb_8c83_02420a399554row5_col0\" class=\"data row5 col0\" >38.8</td>\n",
       "            </tr>\n",
       "            <tr>\n",
       "                        <th id=\"T_6d52487a_7683_11eb_8c83_02420a399554level0_row6\" class=\"row_heading level0 row6\" >floors_total</th>\n",
       "                        <td id=\"T_6d52487a_7683_11eb_8c83_02420a399554row6_col0\" class=\"data row6 col0\" >0.36</td>\n",
       "            </tr>\n",
       "            <tr>\n",
       "                        <th id=\"T_6d52487a_7683_11eb_8c83_02420a399554level0_row7\" class=\"row_heading level0 row7\" >living_area</th>\n",
       "                        <td id=\"T_6d52487a_7683_11eb_8c83_02420a399554row7_col0\" class=\"data row7 col0\" >8.03</td>\n",
       "            </tr>\n",
       "            <tr>\n",
       "                        <th id=\"T_6d52487a_7683_11eb_8c83_02420a399554level0_row8\" class=\"row_heading level0 row8\" >floor</th>\n",
       "                        <td id=\"T_6d52487a_7683_11eb_8c83_02420a399554row8_col0\" class=\"data row8 col0\" >0</td>\n",
       "            </tr>\n",
       "            <tr>\n",
       "                        <th id=\"T_6d52487a_7683_11eb_8c83_02420a399554level0_row9\" class=\"row_heading level0 row9\" >is_apartment</th>\n",
       "                        <td id=\"T_6d52487a_7683_11eb_8c83_02420a399554row9_col0\" class=\"data row9 col0\" >88.29</td>\n",
       "            </tr>\n",
       "            <tr>\n",
       "                        <th id=\"T_6d52487a_7683_11eb_8c83_02420a399554level0_row10\" class=\"row_heading level0 row10\" >studio</th>\n",
       "                        <td id=\"T_6d52487a_7683_11eb_8c83_02420a399554row10_col0\" class=\"data row10 col0\" >0</td>\n",
       "            </tr>\n",
       "            <tr>\n",
       "                        <th id=\"T_6d52487a_7683_11eb_8c83_02420a399554level0_row11\" class=\"row_heading level0 row11\" >open_plan</th>\n",
       "                        <td id=\"T_6d52487a_7683_11eb_8c83_02420a399554row11_col0\" class=\"data row11 col0\" >0</td>\n",
       "            </tr>\n",
       "            <tr>\n",
       "                        <th id=\"T_6d52487a_7683_11eb_8c83_02420a399554level0_row12\" class=\"row_heading level0 row12\" >kitchen_area</th>\n",
       "                        <td id=\"T_6d52487a_7683_11eb_8c83_02420a399554row12_col0\" class=\"data row12 col0\" >9.61</td>\n",
       "            </tr>\n",
       "            <tr>\n",
       "                        <th id=\"T_6d52487a_7683_11eb_8c83_02420a399554level0_row13\" class=\"row_heading level0 row13\" >balcony</th>\n",
       "                        <td id=\"T_6d52487a_7683_11eb_8c83_02420a399554row13_col0\" class=\"data row13 col0\" >48.61</td>\n",
       "            </tr>\n",
       "            <tr>\n",
       "                        <th id=\"T_6d52487a_7683_11eb_8c83_02420a399554level0_row14\" class=\"row_heading level0 row14\" >locality_name</th>\n",
       "                        <td id=\"T_6d52487a_7683_11eb_8c83_02420a399554row14_col0\" class=\"data row14 col0\" >0.21</td>\n",
       "            </tr>\n",
       "            <tr>\n",
       "                        <th id=\"T_6d52487a_7683_11eb_8c83_02420a399554level0_row15\" class=\"row_heading level0 row15\" >airports_nearest</th>\n",
       "                        <td id=\"T_6d52487a_7683_11eb_8c83_02420a399554row15_col0\" class=\"data row15 col0\" >23.38</td>\n",
       "            </tr>\n",
       "            <tr>\n",
       "                        <th id=\"T_6d52487a_7683_11eb_8c83_02420a399554level0_row16\" class=\"row_heading level0 row16\" >cityCenters_nearest</th>\n",
       "                        <td id=\"T_6d52487a_7683_11eb_8c83_02420a399554row16_col0\" class=\"data row16 col0\" >23.29</td>\n",
       "            </tr>\n",
       "            <tr>\n",
       "                        <th id=\"T_6d52487a_7683_11eb_8c83_02420a399554level0_row17\" class=\"row_heading level0 row17\" >parks_around3000</th>\n",
       "                        <td id=\"T_6d52487a_7683_11eb_8c83_02420a399554row17_col0\" class=\"data row17 col0\" >23.28</td>\n",
       "            </tr>\n",
       "            <tr>\n",
       "                        <th id=\"T_6d52487a_7683_11eb_8c83_02420a399554level0_row18\" class=\"row_heading level0 row18\" >parks_nearest</th>\n",
       "                        <td id=\"T_6d52487a_7683_11eb_8c83_02420a399554row18_col0\" class=\"data row18 col0\" >65.91</td>\n",
       "            </tr>\n",
       "            <tr>\n",
       "                        <th id=\"T_6d52487a_7683_11eb_8c83_02420a399554level0_row19\" class=\"row_heading level0 row19\" >ponds_around3000</th>\n",
       "                        <td id=\"T_6d52487a_7683_11eb_8c83_02420a399554row19_col0\" class=\"data row19 col0\" >23.28</td>\n",
       "            </tr>\n",
       "            <tr>\n",
       "                        <th id=\"T_6d52487a_7683_11eb_8c83_02420a399554level0_row20\" class=\"row_heading level0 row20\" >ponds_nearest</th>\n",
       "                        <td id=\"T_6d52487a_7683_11eb_8c83_02420a399554row20_col0\" class=\"data row20 col0\" >61.56</td>\n",
       "            </tr>\n",
       "            <tr>\n",
       "                        <th id=\"T_6d52487a_7683_11eb_8c83_02420a399554level0_row21\" class=\"row_heading level0 row21\" >days_exposition</th>\n",
       "                        <td id=\"T_6d52487a_7683_11eb_8c83_02420a399554row21_col0\" class=\"data row21 col0\" >13.42</td>\n",
       "            </tr>\n",
       "    </tbody></table>"
      ],
      "text/plain": [
       "<pandas.io.formats.style.Styler at 0x7fdfc9f784d0>"
      ]
     },
     "metadata": {},
     "output_type": "display_data"
    }
   ],
   "source": [
    "import pandas as pd\n",
    "from IPython.display import display\n",
    "import  matplotlib.pyplot as plt\n",
    "\n",
    "try:\n",
    "    data = pd.read_csv('/datasets/real_estate_data.csv', sep='\\\\t')  # путь в яндексе\n",
    "except:\n",
    "    data = pd.read_csv('real_estate_data.csv', sep='\\\\t')   # путь дома\n",
    "\n",
    "def data_info(dt):\n",
    "    dt.info()\n",
    "    # случайные строчки датафрейма, в скобках кол-во строк\n",
    "    display(dt.sample(5))\n",
    "    # процент пропусков в столбце для наглядности\n",
    "    display(pd.DataFrame(round((dt.isna().mean() * 100), 2)).style.background_gradient('coolwarm')) \n",
    "   \n",
    "    \n",
    "data_info(data)"
   ]
  },
  {
   "cell_type": "markdown",
   "metadata": {},
   "source": [
    "### Вывод"
   ]
  },
  {
   "cell_type": "markdown",
   "metadata": {},
   "source": [
    "- переименуем несколько названий столбцов в привычный вид \n",
    "- заполним пропуски в ceiling_height, floors_total, balcony, is_apartment, parks_around_3000, ponds_around_3000\n",
    "- в locality_name заменим пропущеные значение на 'неизвестно'\n",
    "- first_day_exposition - приведем к формату год-месяц-день\n"
   ]
  },
  {
   "cell_type": "markdown",
   "metadata": {},
   "source": [
    "### Шаг 2. Предобработка данных"
   ]
  },
  {
   "cell_type": "code",
   "execution_count": 2,
   "metadata": {},
   "outputs": [
    {
     "name": "stdout",
     "output_type": "stream",
     "text": [
      "Index(['total_images', 'last_price', 'total_area', 'first_day_exposition',\n",
      "       'rooms', 'ceiling_height', 'floors_total', 'living_area', 'floor',\n",
      "       'is_apartment', 'studio', 'open_plan', 'kitchen_area', 'balcony',\n",
      "       'locality_name', 'airports_nearest', 'cityCenters_nearest',\n",
      "       'parks_around3000', 'parks_nearest', 'ponds_around3000',\n",
      "       'ponds_nearest', 'days_exposition'],\n",
      "      dtype='object')\n"
     ]
    }
   ],
   "source": [
    "# проверем название столбоцов\n",
    "print(data.columns)\n",
    "# переименуем столбцы в привычный вид \n",
    "data.rename(columns = {'cityCenters_nearest' : 'city_centers_nearest', \n",
    "                       'parks_around3000' : 'parks_around_3000',\n",
    "                      'ponds_around3000' : 'ponds_around_3000'}, inplace = True)\n"
   ]
  },
  {
   "cell_type": "code",
   "execution_count": 3,
   "metadata": {},
   "outputs": [],
   "source": [
    "# заполним пропуски в ceiling_height и floors_total на медиану\n",
    "data = data.fillna(\n",
    "    {\n",
    "        'ceiling_height' : data['ceiling_height'].median(),\n",
    "        'floors_total' : data['floors_total'].median(),        \n",
    "    }\n",
    ")\n"
   ]
  },
  {
   "cell_type": "code",
   "execution_count": 4,
   "metadata": {},
   "outputs": [],
   "source": [
    "# заполним пропуски в balcony, is_apartment, parks_around_3000 и ponds_around_3000 на 0\n",
    "data = data.fillna(\n",
    "    {\n",
    "        'is_apartment' : 0,\n",
    "        'balcony' : 0,\n",
    "        'parks_around_3000' : 0,\n",
    "        'ponds_around_3000' : 0,\n",
    "    }\n",
    ")\n"
   ]
  },
  {
   "cell_type": "code",
   "execution_count": 5,
   "metadata": {},
   "outputs": [],
   "source": [
    "# locality_name заполним значением'неизвестно'\n",
    "data['locality_name'] = data['locality_name'].fillna('неизвестно')"
   ]
  },
  {
   "cell_type": "code",
   "execution_count": 6,
   "metadata": {},
   "outputs": [],
   "source": [
    "# переведем first_day_exposition в формат даты\n",
    "data['first_day_exposition'] = pd.to_datetime(data['first_day_exposition'], format = '%Y.%m.%d')\n"
   ]
  },
  {
   "cell_type": "code",
   "execution_count": 7,
   "metadata": {},
   "outputs": [
    {
     "data": {
      "text/html": [
       "<style  type=\"text/css\" >\n",
       "    #T_6d6feaa6_7683_11eb_8c83_02420a399554row0_col0 {\n",
       "            background-color:  #3b4cc0;\n",
       "            color:  #f1f1f1;\n",
       "        }    #T_6d6feaa6_7683_11eb_8c83_02420a399554row1_col0 {\n",
       "            background-color:  #3b4cc0;\n",
       "            color:  #f1f1f1;\n",
       "        }    #T_6d6feaa6_7683_11eb_8c83_02420a399554row2_col0 {\n",
       "            background-color:  #3b4cc0;\n",
       "            color:  #f1f1f1;\n",
       "        }    #T_6d6feaa6_7683_11eb_8c83_02420a399554row3_col0 {\n",
       "            background-color:  #3b4cc0;\n",
       "            color:  #f1f1f1;\n",
       "        }    #T_6d6feaa6_7683_11eb_8c83_02420a399554row4_col0 {\n",
       "            background-color:  #3b4cc0;\n",
       "            color:  #f1f1f1;\n",
       "        }    #T_6d6feaa6_7683_11eb_8c83_02420a399554row5_col0 {\n",
       "            background-color:  #3b4cc0;\n",
       "            color:  #f1f1f1;\n",
       "        }    #T_6d6feaa6_7683_11eb_8c83_02420a399554row6_col0 {\n",
       "            background-color:  #3b4cc0;\n",
       "            color:  #f1f1f1;\n",
       "        }    #T_6d6feaa6_7683_11eb_8c83_02420a399554row7_col0 {\n",
       "            background-color:  #6180e9;\n",
       "            color:  #000000;\n",
       "        }    #T_6d6feaa6_7683_11eb_8c83_02420a399554row8_col0 {\n",
       "            background-color:  #3b4cc0;\n",
       "            color:  #f1f1f1;\n",
       "        }    #T_6d6feaa6_7683_11eb_8c83_02420a399554row9_col0 {\n",
       "            background-color:  #3b4cc0;\n",
       "            color:  #f1f1f1;\n",
       "        }    #T_6d6feaa6_7683_11eb_8c83_02420a399554row10_col0 {\n",
       "            background-color:  #3b4cc0;\n",
       "            color:  #f1f1f1;\n",
       "        }    #T_6d6feaa6_7683_11eb_8c83_02420a399554row11_col0 {\n",
       "            background-color:  #3b4cc0;\n",
       "            color:  #f1f1f1;\n",
       "        }    #T_6d6feaa6_7683_11eb_8c83_02420a399554row12_col0 {\n",
       "            background-color:  #688aef;\n",
       "            color:  #000000;\n",
       "        }    #T_6d6feaa6_7683_11eb_8c83_02420a399554row13_col0 {\n",
       "            background-color:  #3b4cc0;\n",
       "            color:  #f1f1f1;\n",
       "        }    #T_6d6feaa6_7683_11eb_8c83_02420a399554row14_col0 {\n",
       "            background-color:  #3b4cc0;\n",
       "            color:  #f1f1f1;\n",
       "        }    #T_6d6feaa6_7683_11eb_8c83_02420a399554row15_col0 {\n",
       "            background-color:  #b1cbfc;\n",
       "            color:  #000000;\n",
       "        }    #T_6d6feaa6_7683_11eb_8c83_02420a399554row16_col0 {\n",
       "            background-color:  #b1cbfc;\n",
       "            color:  #000000;\n",
       "        }    #T_6d6feaa6_7683_11eb_8c83_02420a399554row17_col0 {\n",
       "            background-color:  #3b4cc0;\n",
       "            color:  #f1f1f1;\n",
       "        }    #T_6d6feaa6_7683_11eb_8c83_02420a399554row18_col0 {\n",
       "            background-color:  #b40426;\n",
       "            color:  #f1f1f1;\n",
       "        }    #T_6d6feaa6_7683_11eb_8c83_02420a399554row19_col0 {\n",
       "            background-color:  #3b4cc0;\n",
       "            color:  #f1f1f1;\n",
       "        }    #T_6d6feaa6_7683_11eb_8c83_02420a399554row20_col0 {\n",
       "            background-color:  #cb3e38;\n",
       "            color:  #f1f1f1;\n",
       "        }    #T_6d6feaa6_7683_11eb_8c83_02420a399554row21_col0 {\n",
       "            background-color:  #7da0f9;\n",
       "            color:  #000000;\n",
       "        }</style><table id=\"T_6d6feaa6_7683_11eb_8c83_02420a399554\" ><thead>    <tr>        <th class=\"blank level0\" ></th>        <th class=\"col_heading level0 col0\" >0</th>    </tr></thead><tbody>\n",
       "                <tr>\n",
       "                        <th id=\"T_6d6feaa6_7683_11eb_8c83_02420a399554level0_row0\" class=\"row_heading level0 row0\" >total_images</th>\n",
       "                        <td id=\"T_6d6feaa6_7683_11eb_8c83_02420a399554row0_col0\" class=\"data row0 col0\" >0</td>\n",
       "            </tr>\n",
       "            <tr>\n",
       "                        <th id=\"T_6d6feaa6_7683_11eb_8c83_02420a399554level0_row1\" class=\"row_heading level0 row1\" >last_price</th>\n",
       "                        <td id=\"T_6d6feaa6_7683_11eb_8c83_02420a399554row1_col0\" class=\"data row1 col0\" >0</td>\n",
       "            </tr>\n",
       "            <tr>\n",
       "                        <th id=\"T_6d6feaa6_7683_11eb_8c83_02420a399554level0_row2\" class=\"row_heading level0 row2\" >total_area</th>\n",
       "                        <td id=\"T_6d6feaa6_7683_11eb_8c83_02420a399554row2_col0\" class=\"data row2 col0\" >0</td>\n",
       "            </tr>\n",
       "            <tr>\n",
       "                        <th id=\"T_6d6feaa6_7683_11eb_8c83_02420a399554level0_row3\" class=\"row_heading level0 row3\" >first_day_exposition</th>\n",
       "                        <td id=\"T_6d6feaa6_7683_11eb_8c83_02420a399554row3_col0\" class=\"data row3 col0\" >0</td>\n",
       "            </tr>\n",
       "            <tr>\n",
       "                        <th id=\"T_6d6feaa6_7683_11eb_8c83_02420a399554level0_row4\" class=\"row_heading level0 row4\" >rooms</th>\n",
       "                        <td id=\"T_6d6feaa6_7683_11eb_8c83_02420a399554row4_col0\" class=\"data row4 col0\" >0</td>\n",
       "            </tr>\n",
       "            <tr>\n",
       "                        <th id=\"T_6d6feaa6_7683_11eb_8c83_02420a399554level0_row5\" class=\"row_heading level0 row5\" >ceiling_height</th>\n",
       "                        <td id=\"T_6d6feaa6_7683_11eb_8c83_02420a399554row5_col0\" class=\"data row5 col0\" >0</td>\n",
       "            </tr>\n",
       "            <tr>\n",
       "                        <th id=\"T_6d6feaa6_7683_11eb_8c83_02420a399554level0_row6\" class=\"row_heading level0 row6\" >floors_total</th>\n",
       "                        <td id=\"T_6d6feaa6_7683_11eb_8c83_02420a399554row6_col0\" class=\"data row6 col0\" >0</td>\n",
       "            </tr>\n",
       "            <tr>\n",
       "                        <th id=\"T_6d6feaa6_7683_11eb_8c83_02420a399554level0_row7\" class=\"row_heading level0 row7\" >living_area</th>\n",
       "                        <td id=\"T_6d6feaa6_7683_11eb_8c83_02420a399554row7_col0\" class=\"data row7 col0\" >8.03</td>\n",
       "            </tr>\n",
       "            <tr>\n",
       "                        <th id=\"T_6d6feaa6_7683_11eb_8c83_02420a399554level0_row8\" class=\"row_heading level0 row8\" >floor</th>\n",
       "                        <td id=\"T_6d6feaa6_7683_11eb_8c83_02420a399554row8_col0\" class=\"data row8 col0\" >0</td>\n",
       "            </tr>\n",
       "            <tr>\n",
       "                        <th id=\"T_6d6feaa6_7683_11eb_8c83_02420a399554level0_row9\" class=\"row_heading level0 row9\" >is_apartment</th>\n",
       "                        <td id=\"T_6d6feaa6_7683_11eb_8c83_02420a399554row9_col0\" class=\"data row9 col0\" >0</td>\n",
       "            </tr>\n",
       "            <tr>\n",
       "                        <th id=\"T_6d6feaa6_7683_11eb_8c83_02420a399554level0_row10\" class=\"row_heading level0 row10\" >studio</th>\n",
       "                        <td id=\"T_6d6feaa6_7683_11eb_8c83_02420a399554row10_col0\" class=\"data row10 col0\" >0</td>\n",
       "            </tr>\n",
       "            <tr>\n",
       "                        <th id=\"T_6d6feaa6_7683_11eb_8c83_02420a399554level0_row11\" class=\"row_heading level0 row11\" >open_plan</th>\n",
       "                        <td id=\"T_6d6feaa6_7683_11eb_8c83_02420a399554row11_col0\" class=\"data row11 col0\" >0</td>\n",
       "            </tr>\n",
       "            <tr>\n",
       "                        <th id=\"T_6d6feaa6_7683_11eb_8c83_02420a399554level0_row12\" class=\"row_heading level0 row12\" >kitchen_area</th>\n",
       "                        <td id=\"T_6d6feaa6_7683_11eb_8c83_02420a399554row12_col0\" class=\"data row12 col0\" >9.61</td>\n",
       "            </tr>\n",
       "            <tr>\n",
       "                        <th id=\"T_6d6feaa6_7683_11eb_8c83_02420a399554level0_row13\" class=\"row_heading level0 row13\" >balcony</th>\n",
       "                        <td id=\"T_6d6feaa6_7683_11eb_8c83_02420a399554row13_col0\" class=\"data row13 col0\" >0</td>\n",
       "            </tr>\n",
       "            <tr>\n",
       "                        <th id=\"T_6d6feaa6_7683_11eb_8c83_02420a399554level0_row14\" class=\"row_heading level0 row14\" >locality_name</th>\n",
       "                        <td id=\"T_6d6feaa6_7683_11eb_8c83_02420a399554row14_col0\" class=\"data row14 col0\" >0</td>\n",
       "            </tr>\n",
       "            <tr>\n",
       "                        <th id=\"T_6d6feaa6_7683_11eb_8c83_02420a399554level0_row15\" class=\"row_heading level0 row15\" >airports_nearest</th>\n",
       "                        <td id=\"T_6d6feaa6_7683_11eb_8c83_02420a399554row15_col0\" class=\"data row15 col0\" >23.38</td>\n",
       "            </tr>\n",
       "            <tr>\n",
       "                        <th id=\"T_6d6feaa6_7683_11eb_8c83_02420a399554level0_row16\" class=\"row_heading level0 row16\" >city_centers_nearest</th>\n",
       "                        <td id=\"T_6d6feaa6_7683_11eb_8c83_02420a399554row16_col0\" class=\"data row16 col0\" >23.29</td>\n",
       "            </tr>\n",
       "            <tr>\n",
       "                        <th id=\"T_6d6feaa6_7683_11eb_8c83_02420a399554level0_row17\" class=\"row_heading level0 row17\" >parks_around_3000</th>\n",
       "                        <td id=\"T_6d6feaa6_7683_11eb_8c83_02420a399554row17_col0\" class=\"data row17 col0\" >0</td>\n",
       "            </tr>\n",
       "            <tr>\n",
       "                        <th id=\"T_6d6feaa6_7683_11eb_8c83_02420a399554level0_row18\" class=\"row_heading level0 row18\" >parks_nearest</th>\n",
       "                        <td id=\"T_6d6feaa6_7683_11eb_8c83_02420a399554row18_col0\" class=\"data row18 col0\" >65.91</td>\n",
       "            </tr>\n",
       "            <tr>\n",
       "                        <th id=\"T_6d6feaa6_7683_11eb_8c83_02420a399554level0_row19\" class=\"row_heading level0 row19\" >ponds_around_3000</th>\n",
       "                        <td id=\"T_6d6feaa6_7683_11eb_8c83_02420a399554row19_col0\" class=\"data row19 col0\" >0</td>\n",
       "            </tr>\n",
       "            <tr>\n",
       "                        <th id=\"T_6d6feaa6_7683_11eb_8c83_02420a399554level0_row20\" class=\"row_heading level0 row20\" >ponds_nearest</th>\n",
       "                        <td id=\"T_6d6feaa6_7683_11eb_8c83_02420a399554row20_col0\" class=\"data row20 col0\" >61.56</td>\n",
       "            </tr>\n",
       "            <tr>\n",
       "                        <th id=\"T_6d6feaa6_7683_11eb_8c83_02420a399554level0_row21\" class=\"row_heading level0 row21\" >days_exposition</th>\n",
       "                        <td id=\"T_6d6feaa6_7683_11eb_8c83_02420a399554row21_col0\" class=\"data row21 col0\" >13.42</td>\n",
       "            </tr>\n",
       "    </tbody></table>"
      ],
      "text/plain": [
       "<pandas.io.formats.style.Styler at 0x7fdfc96a8550>"
      ]
     },
     "metadata": {},
     "output_type": "display_data"
    }
   ],
   "source": [
    "display(pd.DataFrame(round((data.isna().mean() * 100), 2)).style.background_gradient('coolwarm')) \n"
   ]
  },
  {
   "cell_type": "markdown",
   "metadata": {},
   "source": [
    "### Вывод по пропускам"
   ]
  },
  {
   "cell_type": "markdown",
   "metadata": {},
   "source": [
    "- переименуем несколько названий столбцов в привычный вид;\n",
    "- заполним пропуски в 'ceiling_height' и 'floors_total' на медиану т.к. высота потолков варьируется в достаточно узких пределах, а также в датафрейме нет указания на класс жилья(эконом, комфорт, бизнес), что не позволяет взять медиану в зависимости от категории. Аналогично и для этажности дома. К тому же медиана равна 9, что вполне соответствует действительности.(Средняя высота «вторички» в городах-миллионниках - Санкт-Петербург - 10 этажей, по данным сайта domofond);\n",
    "- заполним пропуски в 'balcony','is_apartment', 'parks_around_3000' и 'ponds_around_3000' на 0, т к если нет балконов, то человек мог и не указать их, а столбец апартаменты имеет булев тип и если он не заполнен, значит квартира не относится к апартаментам. по количеству парков и прудов укажим 0, т к возможно их и нет в радиусе 3 км;\n",
    "- в locality_name заменим пропущеные занечение на 'неизвестно';\n",
    "- переведем first_day_exposition в формат даты;\n",
    "- living_area и kitchen_area оставим без изменений, т к посчитать жилую площадь и площадь кухни невозможно, из-за отсутствия информации по площади других комнат;\n",
    "- airports_nearest, city_centers_nearest, parks_nearest, ponds_nearest - расстояния до объектов возможно восстановить только в ручном режиме, но это долго."
   ]
  },
  {
   "cell_type": "code",
   "execution_count": 8,
   "metadata": {},
   "outputs": [
    {
     "name": "stdout",
     "output_type": "stream",
     "text": [
      "<class 'pandas.core.frame.DataFrame'>\n",
      "RangeIndex: 23699 entries, 0 to 23698\n",
      "Data columns (total 22 columns):\n",
      "total_images            23699 non-null int64\n",
      "last_price              23699 non-null float64\n",
      "total_area              23699 non-null float64\n",
      "first_day_exposition    23699 non-null datetime64[ns]\n",
      "rooms                   23699 non-null int64\n",
      "ceiling_height          23699 non-null float64\n",
      "floors_total            23699 non-null int64\n",
      "living_area             21796 non-null float64\n",
      "floor                   23699 non-null int64\n",
      "is_apartment            23699 non-null bool\n",
      "studio                  23699 non-null bool\n",
      "open_plan               23699 non-null bool\n",
      "kitchen_area            21421 non-null float64\n",
      "balcony                 23699 non-null int64\n",
      "locality_name           23699 non-null object\n",
      "airports_nearest        18157 non-null float64\n",
      "city_centers_nearest    18180 non-null float64\n",
      "parks_around_3000       23699 non-null int64\n",
      "parks_nearest           8079 non-null float64\n",
      "ponds_around_3000       23699 non-null int64\n",
      "ponds_nearest           9110 non-null float64\n",
      "days_exposition         20518 non-null float64\n",
      "dtypes: bool(3), datetime64[ns](1), float64(10), int64(7), object(1)\n",
      "memory usage: 3.5+ MB\n"
     ]
    }
   ],
   "source": [
    "# изменим тип данный на числовой через функцию\n",
    "def to_int(data_f, colum):\n",
    "    data_f[colum] = data_f[colum].astype('int')\n",
    "    \n",
    "\n",
    "to_int(data, 'balcony')\n",
    "to_int(data, 'floors_total')\n",
    "to_int(data, 'parks_around_3000')\n",
    "to_int(data, 'ponds_around_3000')\n",
    "\n",
    "# изменим тип данных на булев\n",
    "data['is_apartment'] = data['is_apartment'].astype('bool')\n",
    "data.info()\n"
   ]
  },
  {
   "cell_type": "code",
   "execution_count": 9,
   "metadata": {
    "scrolled": true
   },
   "outputs": [],
   "source": [
    "# переведем в километры данные из столбцов с расстояниями в метрах \n",
    "def kilometr(dt, metr):\n",
    "    dt[metr] = round(dt[metr] / 1000, 2)\n",
    "    \n",
    "\n",
    "kilometr(data, 'airports_nearest')\n",
    "kilometr(data, 'city_centers_nearest')\n",
    "kilometr(data, 'parks_nearest')\n",
    "kilometr(data, 'ponds_nearest')\n"
   ]
  },
  {
   "cell_type": "code",
   "execution_count": 10,
   "metadata": {},
   "outputs": [
    {
     "data": {
      "text/html": [
       "<div>\n",
       "<style scoped>\n",
       "    .dataframe tbody tr th:only-of-type {\n",
       "        vertical-align: middle;\n",
       "    }\n",
       "\n",
       "    .dataframe tbody tr th {\n",
       "        vertical-align: top;\n",
       "    }\n",
       "\n",
       "    .dataframe thead th {\n",
       "        text-align: right;\n",
       "    }\n",
       "</style>\n",
       "<table border=\"1\" class=\"dataframe\">\n",
       "  <thead>\n",
       "    <tr style=\"text-align: right;\">\n",
       "      <th></th>\n",
       "      <th>total_images</th>\n",
       "      <th>last_price</th>\n",
       "      <th>total_area</th>\n",
       "      <th>first_day_exposition</th>\n",
       "      <th>rooms</th>\n",
       "      <th>ceiling_height</th>\n",
       "      <th>floors_total</th>\n",
       "      <th>living_area</th>\n",
       "      <th>floor</th>\n",
       "      <th>is_apartment</th>\n",
       "      <th>...</th>\n",
       "      <th>kitchen_area</th>\n",
       "      <th>balcony</th>\n",
       "      <th>locality_name</th>\n",
       "      <th>airports_nearest</th>\n",
       "      <th>city_centers_nearest</th>\n",
       "      <th>parks_around_3000</th>\n",
       "      <th>parks_nearest</th>\n",
       "      <th>ponds_around_3000</th>\n",
       "      <th>ponds_nearest</th>\n",
       "      <th>days_exposition</th>\n",
       "    </tr>\n",
       "  </thead>\n",
       "  <tbody>\n",
       "    <tr>\n",
       "      <td>0</td>\n",
       "      <td>20</td>\n",
       "      <td>13000000.0</td>\n",
       "      <td>108.0</td>\n",
       "      <td>2019-03-07</td>\n",
       "      <td>3</td>\n",
       "      <td>2.70</td>\n",
       "      <td>16</td>\n",
       "      <td>51.0</td>\n",
       "      <td>8</td>\n",
       "      <td>False</td>\n",
       "      <td>...</td>\n",
       "      <td>25.0</td>\n",
       "      <td>0</td>\n",
       "      <td>Санкт-Петербург</td>\n",
       "      <td>18.86</td>\n",
       "      <td>16.03</td>\n",
       "      <td>1</td>\n",
       "      <td>0.48</td>\n",
       "      <td>2</td>\n",
       "      <td>0.76</td>\n",
       "      <td>NaN</td>\n",
       "    </tr>\n",
       "    <tr>\n",
       "      <td>1</td>\n",
       "      <td>7</td>\n",
       "      <td>3350000.0</td>\n",
       "      <td>40.4</td>\n",
       "      <td>2018-12-04</td>\n",
       "      <td>1</td>\n",
       "      <td>2.65</td>\n",
       "      <td>11</td>\n",
       "      <td>18.6</td>\n",
       "      <td>1</td>\n",
       "      <td>False</td>\n",
       "      <td>...</td>\n",
       "      <td>11.0</td>\n",
       "      <td>2</td>\n",
       "      <td>посёлок Шушары</td>\n",
       "      <td>12.82</td>\n",
       "      <td>18.60</td>\n",
       "      <td>0</td>\n",
       "      <td>NaN</td>\n",
       "      <td>0</td>\n",
       "      <td>NaN</td>\n",
       "      <td>81.0</td>\n",
       "    </tr>\n",
       "    <tr>\n",
       "      <td>2</td>\n",
       "      <td>10</td>\n",
       "      <td>5196000.0</td>\n",
       "      <td>56.0</td>\n",
       "      <td>2015-08-20</td>\n",
       "      <td>2</td>\n",
       "      <td>2.65</td>\n",
       "      <td>5</td>\n",
       "      <td>34.3</td>\n",
       "      <td>4</td>\n",
       "      <td>False</td>\n",
       "      <td>...</td>\n",
       "      <td>8.3</td>\n",
       "      <td>0</td>\n",
       "      <td>Санкт-Петербург</td>\n",
       "      <td>21.74</td>\n",
       "      <td>13.93</td>\n",
       "      <td>1</td>\n",
       "      <td>0.09</td>\n",
       "      <td>2</td>\n",
       "      <td>0.57</td>\n",
       "      <td>558.0</td>\n",
       "    </tr>\n",
       "    <tr>\n",
       "      <td>3</td>\n",
       "      <td>0</td>\n",
       "      <td>64900000.0</td>\n",
       "      <td>159.0</td>\n",
       "      <td>2015-07-24</td>\n",
       "      <td>3</td>\n",
       "      <td>2.65</td>\n",
       "      <td>14</td>\n",
       "      <td>NaN</td>\n",
       "      <td>9</td>\n",
       "      <td>False</td>\n",
       "      <td>...</td>\n",
       "      <td>NaN</td>\n",
       "      <td>0</td>\n",
       "      <td>Санкт-Петербург</td>\n",
       "      <td>28.10</td>\n",
       "      <td>6.80</td>\n",
       "      <td>2</td>\n",
       "      <td>0.08</td>\n",
       "      <td>3</td>\n",
       "      <td>0.23</td>\n",
       "      <td>424.0</td>\n",
       "    </tr>\n",
       "    <tr>\n",
       "      <td>4</td>\n",
       "      <td>2</td>\n",
       "      <td>10000000.0</td>\n",
       "      <td>100.0</td>\n",
       "      <td>2018-06-19</td>\n",
       "      <td>2</td>\n",
       "      <td>3.03</td>\n",
       "      <td>14</td>\n",
       "      <td>32.0</td>\n",
       "      <td>13</td>\n",
       "      <td>False</td>\n",
       "      <td>...</td>\n",
       "      <td>41.0</td>\n",
       "      <td>0</td>\n",
       "      <td>Санкт-Петербург</td>\n",
       "      <td>31.86</td>\n",
       "      <td>8.10</td>\n",
       "      <td>2</td>\n",
       "      <td>0.11</td>\n",
       "      <td>1</td>\n",
       "      <td>0.05</td>\n",
       "      <td>121.0</td>\n",
       "    </tr>\n",
       "  </tbody>\n",
       "</table>\n",
       "<p>5 rows × 22 columns</p>\n",
       "</div>"
      ],
      "text/plain": [
       "   total_images  last_price  total_area first_day_exposition  rooms  \\\n",
       "0            20  13000000.0       108.0           2019-03-07      3   \n",
       "1             7   3350000.0        40.4           2018-12-04      1   \n",
       "2            10   5196000.0        56.0           2015-08-20      2   \n",
       "3             0  64900000.0       159.0           2015-07-24      3   \n",
       "4             2  10000000.0       100.0           2018-06-19      2   \n",
       "\n",
       "   ceiling_height  floors_total  living_area  floor  is_apartment  ...  \\\n",
       "0            2.70            16         51.0      8         False  ...   \n",
       "1            2.65            11         18.6      1         False  ...   \n",
       "2            2.65             5         34.3      4         False  ...   \n",
       "3            2.65            14          NaN      9         False  ...   \n",
       "4            3.03            14         32.0     13         False  ...   \n",
       "\n",
       "   kitchen_area  balcony    locality_name  airports_nearest  \\\n",
       "0          25.0        0  Санкт-Петербург             18.86   \n",
       "1          11.0        2   посёлок Шушары             12.82   \n",
       "2           8.3        0  Санкт-Петербург             21.74   \n",
       "3           NaN        0  Санкт-Петербург             28.10   \n",
       "4          41.0        0  Санкт-Петербург             31.86   \n",
       "\n",
       "  city_centers_nearest  parks_around_3000  parks_nearest  ponds_around_3000  \\\n",
       "0                16.03                  1           0.48                  2   \n",
       "1                18.60                  0            NaN                  0   \n",
       "2                13.93                  1           0.09                  2   \n",
       "3                 6.80                  2           0.08                  3   \n",
       "4                 8.10                  2           0.11                  1   \n",
       "\n",
       "   ponds_nearest  days_exposition  \n",
       "0           0.76              NaN  \n",
       "1            NaN             81.0  \n",
       "2           0.57            558.0  \n",
       "3           0.23            424.0  \n",
       "4           0.05            121.0  \n",
       "\n",
       "[5 rows x 22 columns]"
      ]
     },
     "metadata": {},
     "output_type": "display_data"
    }
   ],
   "source": [
    "# округлим значения площадей до 1 знака после запятой, для упрощения восприятия цифр\n",
    "def sign(dt, square_met):\n",
    "    dt[square_met] = round(dt[square_met], 1)\n",
    "    \n",
    "\n",
    "sign(data, 'kitchen_area')\n",
    "sign(data, 'living_area')\n",
    "sign(data, 'total_area')\n",
    "\n",
    "display(data.head(5))"
   ]
  },
  {
   "cell_type": "markdown",
   "metadata": {},
   "source": [
    "### Вывод"
   ]
  },
  {
   "cell_type": "markdown",
   "metadata": {},
   "source": [
    "- изменим тип данный на числовой через функцию для столбцов 'balcony', 'days_exposition', 'floors_total', 'parks_around_3000','ponds_around_3000' - в данных столбцах исключительно целые значения;\n",
    "- is_apartment заменим на булев тип данный, тк столбец содержит только информацию да/нет;\n",
    "- переведем в километры данные из столбцов с расстояниями в метрах и округлим значения площадей до 2 знаков после запятой -для упрощения информации\n",
    "- округлим значения площадей до 1 знака после запятой, для упрощения восприятия цифр"
   ]
  },
  {
   "cell_type": "markdown",
   "metadata": {},
   "source": [
    "### Шаг 3. Посчитаем и добавим в таблицу"
   ]
  },
  {
   "cell_type": "code",
   "execution_count": 11,
   "metadata": {
    "scrolled": true
   },
   "outputs": [
    {
     "data": {
      "text/html": [
       "<div>\n",
       "<style scoped>\n",
       "    .dataframe tbody tr th:only-of-type {\n",
       "        vertical-align: middle;\n",
       "    }\n",
       "\n",
       "    .dataframe tbody tr th {\n",
       "        vertical-align: top;\n",
       "    }\n",
       "\n",
       "    .dataframe thead th {\n",
       "        text-align: right;\n",
       "    }\n",
       "</style>\n",
       "<table border=\"1\" class=\"dataframe\">\n",
       "  <thead>\n",
       "    <tr style=\"text-align: right;\">\n",
       "      <th></th>\n",
       "      <th>total_images</th>\n",
       "      <th>last_price</th>\n",
       "      <th>total_area</th>\n",
       "      <th>first_day_exposition</th>\n",
       "      <th>rooms</th>\n",
       "      <th>ceiling_height</th>\n",
       "      <th>floors_total</th>\n",
       "      <th>living_area</th>\n",
       "      <th>floor</th>\n",
       "      <th>is_apartment</th>\n",
       "      <th>...</th>\n",
       "      <th>ponds_around_3000</th>\n",
       "      <th>ponds_nearest</th>\n",
       "      <th>days_exposition</th>\n",
       "      <th>square_meter</th>\n",
       "      <th>weekday</th>\n",
       "      <th>month</th>\n",
       "      <th>year</th>\n",
       "      <th>floor_category</th>\n",
       "      <th>ratio_liv_total</th>\n",
       "      <th>ratio_kitch_total</th>\n",
       "    </tr>\n",
       "  </thead>\n",
       "  <tbody>\n",
       "    <tr>\n",
       "      <td>0</td>\n",
       "      <td>20</td>\n",
       "      <td>13000000.0</td>\n",
       "      <td>108.0</td>\n",
       "      <td>2019-03-07</td>\n",
       "      <td>3</td>\n",
       "      <td>2.70</td>\n",
       "      <td>16</td>\n",
       "      <td>51.0</td>\n",
       "      <td>8</td>\n",
       "      <td>False</td>\n",
       "      <td>...</td>\n",
       "      <td>2</td>\n",
       "      <td>0.76</td>\n",
       "      <td>NaN</td>\n",
       "      <td>120370</td>\n",
       "      <td>3</td>\n",
       "      <td>3</td>\n",
       "      <td>2019</td>\n",
       "      <td>другой</td>\n",
       "      <td>0.47</td>\n",
       "      <td>0.23</td>\n",
       "    </tr>\n",
       "    <tr>\n",
       "      <td>1</td>\n",
       "      <td>7</td>\n",
       "      <td>3350000.0</td>\n",
       "      <td>40.4</td>\n",
       "      <td>2018-12-04</td>\n",
       "      <td>1</td>\n",
       "      <td>2.65</td>\n",
       "      <td>11</td>\n",
       "      <td>18.6</td>\n",
       "      <td>1</td>\n",
       "      <td>False</td>\n",
       "      <td>...</td>\n",
       "      <td>0</td>\n",
       "      <td>NaN</td>\n",
       "      <td>81.0</td>\n",
       "      <td>82920</td>\n",
       "      <td>1</td>\n",
       "      <td>12</td>\n",
       "      <td>2018</td>\n",
       "      <td>первый</td>\n",
       "      <td>0.46</td>\n",
       "      <td>0.27</td>\n",
       "    </tr>\n",
       "    <tr>\n",
       "      <td>2</td>\n",
       "      <td>10</td>\n",
       "      <td>5196000.0</td>\n",
       "      <td>56.0</td>\n",
       "      <td>2015-08-20</td>\n",
       "      <td>2</td>\n",
       "      <td>2.65</td>\n",
       "      <td>5</td>\n",
       "      <td>34.3</td>\n",
       "      <td>4</td>\n",
       "      <td>False</td>\n",
       "      <td>...</td>\n",
       "      <td>2</td>\n",
       "      <td>0.57</td>\n",
       "      <td>558.0</td>\n",
       "      <td>92785</td>\n",
       "      <td>3</td>\n",
       "      <td>8</td>\n",
       "      <td>2015</td>\n",
       "      <td>другой</td>\n",
       "      <td>0.61</td>\n",
       "      <td>0.15</td>\n",
       "    </tr>\n",
       "    <tr>\n",
       "      <td>3</td>\n",
       "      <td>0</td>\n",
       "      <td>64900000.0</td>\n",
       "      <td>159.0</td>\n",
       "      <td>2015-07-24</td>\n",
       "      <td>3</td>\n",
       "      <td>2.65</td>\n",
       "      <td>14</td>\n",
       "      <td>NaN</td>\n",
       "      <td>9</td>\n",
       "      <td>False</td>\n",
       "      <td>...</td>\n",
       "      <td>3</td>\n",
       "      <td>0.23</td>\n",
       "      <td>424.0</td>\n",
       "      <td>408176</td>\n",
       "      <td>4</td>\n",
       "      <td>7</td>\n",
       "      <td>2015</td>\n",
       "      <td>другой</td>\n",
       "      <td>NaN</td>\n",
       "      <td>NaN</td>\n",
       "    </tr>\n",
       "    <tr>\n",
       "      <td>4</td>\n",
       "      <td>2</td>\n",
       "      <td>10000000.0</td>\n",
       "      <td>100.0</td>\n",
       "      <td>2018-06-19</td>\n",
       "      <td>2</td>\n",
       "      <td>3.03</td>\n",
       "      <td>14</td>\n",
       "      <td>32.0</td>\n",
       "      <td>13</td>\n",
       "      <td>False</td>\n",
       "      <td>...</td>\n",
       "      <td>1</td>\n",
       "      <td>0.05</td>\n",
       "      <td>121.0</td>\n",
       "      <td>100000</td>\n",
       "      <td>1</td>\n",
       "      <td>6</td>\n",
       "      <td>2018</td>\n",
       "      <td>другой</td>\n",
       "      <td>0.32</td>\n",
       "      <td>0.41</td>\n",
       "    </tr>\n",
       "  </tbody>\n",
       "</table>\n",
       "<p>5 rows × 29 columns</p>\n",
       "</div>"
      ],
      "text/plain": [
       "   total_images  last_price  total_area first_day_exposition  rooms  \\\n",
       "0            20  13000000.0       108.0           2019-03-07      3   \n",
       "1             7   3350000.0        40.4           2018-12-04      1   \n",
       "2            10   5196000.0        56.0           2015-08-20      2   \n",
       "3             0  64900000.0       159.0           2015-07-24      3   \n",
       "4             2  10000000.0       100.0           2018-06-19      2   \n",
       "\n",
       "   ceiling_height  floors_total  living_area  floor  is_apartment  ...  \\\n",
       "0            2.70            16         51.0      8         False  ...   \n",
       "1            2.65            11         18.6      1         False  ...   \n",
       "2            2.65             5         34.3      4         False  ...   \n",
       "3            2.65            14          NaN      9         False  ...   \n",
       "4            3.03            14         32.0     13         False  ...   \n",
       "\n",
       "   ponds_around_3000  ponds_nearest  days_exposition  square_meter weekday  \\\n",
       "0                  2           0.76              NaN        120370       3   \n",
       "1                  0            NaN             81.0         82920       1   \n",
       "2                  2           0.57            558.0         92785       3   \n",
       "3                  3           0.23            424.0        408176       4   \n",
       "4                  1           0.05            121.0        100000       1   \n",
       "\n",
       "   month  year  floor_category  ratio_liv_total  ratio_kitch_total  \n",
       "0      3  2019          другой             0.47               0.23  \n",
       "1     12  2018          первый             0.46               0.27  \n",
       "2      8  2015          другой             0.61               0.15  \n",
       "3      7  2015          другой              NaN                NaN  \n",
       "4      6  2018          другой             0.32               0.41  \n",
       "\n",
       "[5 rows x 29 columns]"
      ]
     },
     "metadata": {},
     "output_type": "display_data"
    }
   ],
   "source": [
    "#цена квадратного метра\n",
    "data['square_meter'] = (data['last_price'] / data['total_area']).astype('int')\n",
    "\n",
    "# день недели, месяц и год\n",
    "data['weekday'] = pd.DatetimeIndex(data['first_day_exposition']).weekday\n",
    "data['month'] = pd.DatetimeIndex(data['first_day_exposition']).month\n",
    "data['year'] = pd.DatetimeIndex(data['first_day_exposition']).year\n",
    "\n",
    "# категоризировали по этажности на первый, последний и другие\n",
    "def floors(row):\n",
    "    floor = row['floor']\n",
    "    floors_total = row['floors_total']\n",
    "    \n",
    "    if floor == 1:\n",
    "        return 'первый'\n",
    "    elif floor == floors_total:\n",
    "        return 'последний'\n",
    "    else:\n",
    "        return 'другой'\n",
    "\n",
    "    \n",
    "data['floor_category'] = data.apply(floors, axis=1) \n",
    "\n",
    "# отношение жилой к общей площади\n",
    "data['ratio_liv_total'] = round(data['living_area'] / data['total_area'], 2)\n",
    "\n",
    "# отношение площади кухни к общей площади\n",
    "data['ratio_kitch_total'] = round(data['kitchen_area'] / data['total_area'], 2)\n",
    "\n",
    "display(data.head(5))\n"
   ]
  },
  {
   "cell_type": "markdown",
   "metadata": {},
   "source": [
    "### Шаг 4. Провем исследовательский анализ данных и выполним инструкции:"
   ]
  },
  {
   "cell_type": "code",
   "execution_count": 12,
   "metadata": {},
   "outputs": [
    {
     "data": {
      "image/png": "[encoded data removed]",
      "text/plain": [
       "<Figure size 432x288 with 1 Axes>"
      ]
     },
     "metadata": {
      "needs_background": "light"
     },
     "output_type": "display_data"
    },
    {
     "data": {
      "image/png": "[encoded data removed]",
      "text/plain": [
       "<Figure size 432x288 with 1 Axes>"
      ]
     },
     "metadata": {
      "needs_background": "light"
     },
     "output_type": "display_data"
    }
   ],
   "source": [
    "\n",
    "# построим гистограмму по площади квартиры\n",
    "data['total_area'].hist(bins = 50, range =(0, 300))\n",
    "plt.title('Total_area')\n",
    "plt.xlabel('Total_area')\n",
    "plt.ylabel('Count')\n",
    "plt.show()\n",
    "\n",
    "# отобразим диаграмму ящик с усами\n",
    "data.boxplot(column = 'total_area')\n",
    "plt.show()\n"
   ]
  },
  {
   "cell_type": "markdown",
   "metadata": {},
   "source": [
    "- наиболее часто встречаются квартиры с площадью от 28 до 47 м кв, это студии, 1 и маленькие 2-х комн. квартиры, есть еще небольшой пик по большим 2-ным квартирам от 52 до 60 м кв. Есть редкие и выбивающиеся занчения и за пределами 200 м кв."
   ]
  },
  {
   "cell_type": "code",
   "execution_count": 13,
   "metadata": {},
   "outputs": [
    {
     "data": {
      "image/png": "[encoded data removed]",
      "text/plain": [
       "<Figure size 432x288 with 1 Axes>"
      ]
     },
     "metadata": {
      "needs_background": "light"
     },
     "output_type": "display_data"
    }
   ],
   "source": [
    "# построим гистограмму по цене квартиры\n",
    "data['last_price'].hist(bins = 30, range =(0, 20000000))\n",
    "plt.title('Last_price')\n",
    "plt.xlabel('Last_price')\n",
    "plt.ylabel('Count')\n",
    "plt.show()"
   ]
  },
  {
   "cell_type": "markdown",
   "metadata": {},
   "source": [
    "- наиболее часто встречаются квартиры стоимостью примерно от 2,8 млн до 4,6 млн. Есть редкие и выбивающиеся занчения и за пределами 20 млн."
   ]
  },
  {
   "cell_type": "code",
   "execution_count": 14,
   "metadata": {},
   "outputs": [
    {
     "data": {
      "image/png": "[encoded data removed]",
      "text/plain": [
       "<Figure size 432x288 with 1 Axes>"
      ]
     },
     "metadata": {
      "needs_background": "light"
     },
     "output_type": "display_data"
    },
    {
     "data": {
      "image/png": "[encoded data removed]",
      "text/plain": [
       "<Figure size 432x288 with 1 Axes>"
      ]
     },
     "metadata": {
      "needs_background": "light"
     },
     "output_type": "display_data"
    }
   ],
   "source": [
    "# построим гистограмму по кол-ву комнат\n",
    "data['rooms'].hist(bins = 10, range = (0, 10))\n",
    "plt.title('Rooms')\n",
    "plt.xlabel('Rooms')\n",
    "plt.ylabel('Count')\n",
    "plt.show()\n",
    "\n",
    "# отобразим диаграмму ящик с усами\n",
    "data.boxplot(column = 'rooms')\n",
    "plt.show()"
   ]
  },
  {
   "cell_type": "markdown",
   "metadata": {},
   "source": [
    "- Наиболее часто продаются 1 и 2-ные квартиры. Есть редкие и выбивающиеся занчения и за пределами 10 комнат."
   ]
  },
  {
   "cell_type": "code",
   "execution_count": 15,
   "metadata": {},
   "outputs": [
    {
     "data": {
      "image/png": "[encoded data removed]",
      "text/plain": [
       "<Figure size 432x288 with 1 Axes>"
      ]
     },
     "metadata": {
      "needs_background": "light"
     },
     "output_type": "display_data"
    }
   ],
   "source": [
    "# построим гистограмму по высоте потолка\n",
    "data['ceiling_height'].hist(bins = 15, range =(2, 5), color = 'Green', edgecolor = 'Blue')\n",
    "plt.title('Ceiling_height')\n",
    "plt.xlabel('Ceiling_height')\n",
    "plt.ylabel('Count')\n",
    "plt.show()"
   ]
  },
  {
   "cell_type": "markdown",
   "metadata": {},
   "source": [
    "- Наиболее часто встречаются потолки высотой примерно от 2,6 до 2,8 м. Есть редкие и выбивающиеся занчения и за пределами 5 метров и до 2 метров."
   ]
  },
  {
   "cell_type": "markdown",
   "metadata": {},
   "source": [
    "#### Изучим время продажи квартир"
   ]
  },
  {
   "cell_type": "code",
   "execution_count": 16,
   "metadata": {},
   "outputs": [
    {
     "data": {
      "image/png": "[encoded data removed]",
      "text/plain": [
       "<Figure size 432x288 with 1 Axes>"
      ]
     },
     "metadata": {
      "needs_background": "light"
     },
     "output_type": "display_data"
    },
    {
     "name": "stdout",
     "output_type": "stream",
     "text": [
      "count    20518.000000\n",
      "mean       180.888634\n",
      "std        219.727988\n",
      "min          1.000000\n",
      "25%         45.000000\n",
      "50%         95.000000\n",
      "75%        232.000000\n",
      "max       1580.000000\n",
      "Name: days_exposition, dtype: float64\n"
     ]
    },
    {
     "data": {
      "image/png": "[encoded data removed]",
      "text/plain": [
       "<Figure size 432x288 with 1 Axes>"
      ]
     },
     "metadata": {
      "needs_background": "light"
     },
     "output_type": "display_data"
    },
    {
     "name": "stdout",
     "output_type": "stream",
     "text": [
      "\n"
     ]
    },
    {
     "data": {
      "image/png": "[encoded data removed]",
      "text/plain": [
       "<Figure size 432x288 with 1 Axes>"
      ]
     },
     "metadata": {
      "needs_background": "light"
     },
     "output_type": "display_data"
    },
    {
     "name": "stdout",
     "output_type": "stream",
     "text": [
      "Процент квартир проданных за 4 дня - 1.43%\n"
     ]
    }
   ],
   "source": [
    "# построим гистограмму по времени продаж\n",
    "data['days_exposition'].hist(bins = 60, range = (0, 1500))\n",
    "plt.title('Days_exposition')\n",
    "plt.xlabel('Days_exposition')\n",
    "plt.ylabel('Count')\n",
    "plt.show()\n",
    "\n",
    "# числовое описание столбца\n",
    "print(data['days_exposition'].describe())\n",
    "\n",
    "# отобразим диаграмму ящик с усами\n",
    "data.boxplot(column = 'days_exposition')\n",
    "plt.title('Days_exposition')\n",
    "plt.ylabel('Count')\n",
    "plt.show()\n",
    "print()\n",
    "\n",
    "# отобразим диаграмму ящик с усами с увеличенным масштабом\n",
    "data.boxplot(column = 'days_exposition')\n",
    "plt.ylim(-5, 600)\n",
    "plt.title('Days_exposition')\n",
    "plt.ylabel('Count')\n",
    "plt.show()\n",
    "\n",
    "print('Процент квартир проданных за 4 дня - {:.2%}'.\n",
    "      format(round(len(data.query('days_exposition <= 4')) / len(data), 4)))"
   ]
  },
  {
   "cell_type": "markdown",
   "metadata": {},
   "source": [
    "- Нижний «ус» упирается в 0, минимальное значение. Верхний заканчивается около 510;\n",
    "- в половине случаев квартира продается в течении 95 дней;\n",
    "- в 75% случаев продается за 232 дней;\n",
    "- Продажи продолжительностью 800 дней — уже редки. Дольше 1000 дней почти не продаются. А на участке более 1200-т дней гистограмма сливается с нулём (это не значит, что там ровно 0);\n",
    "- посчитав долю дней, которое объявление было размещено, можно сделать вывод, что до 4 дней практически не бывает продаж квартир, о чем свидетельствует значение - 1.43%. "
   ]
  },
  {
   "cell_type": "markdown",
   "metadata": {},
   "source": [
    "#### Уберем редкие и выбивающие значения"
   ]
  },
  {
   "cell_type": "code",
   "execution_count": 17,
   "metadata": {},
   "outputs": [
    {
     "name": "stdout",
     "output_type": "stream",
     "text": [
      "Процент квартир с площадью более 200 кв м - 0.96%\n",
      "Процент квартир с кол-вом комнат 6 и более - 0.82%\n",
      "\n",
      "Гистограмма высота потолка от 0 до 2,2 м\n"
     ]
    },
    {
     "data": {
      "image/png": "[encoded data removed]",
      "text/plain": [
       "<Figure size 432x288 with 1 Axes>"
      ]
     },
     "metadata": {
      "needs_background": "light"
     },
     "output_type": "display_data"
    },
    {
     "name": "stdout",
     "output_type": "stream",
     "text": [
      "Процент квартир с высотой потолка менее 2 м - 0.06%\n",
      "\n",
      "Гистограмма высоты потолка более 4 м\n"
     ]
    },
    {
     "data": {
      "image/png": "[encoded data removed]",
      "text/plain": [
       "<Figure size 432x288 with 1 Axes>"
      ]
     },
     "metadata": {
      "needs_background": "light"
     },
     "output_type": "display_data"
    },
    {
     "name": "stdout",
     "output_type": "stream",
     "text": [
      "Процент квартир с высотой потолка более 4 м - 0.48%\n",
      "\n",
      "Гистограмма по кол-ву фотографий\n"
     ]
    },
    {
     "data": {
      "image/png": "[encoded data removed]",
      "text/plain": [
       "<Figure size 432x288 with 1 Axes>"
      ]
     },
     "metadata": {
      "needs_background": "light"
     },
     "output_type": "display_data"
    },
    {
     "name": "stdout",
     "output_type": "stream",
     "text": [
      "Процент объявлений, где менее 3 фотогр.- 14.09%\n"
     ]
    }
   ],
   "source": [
    "# в дальнейшем нам понадобится столбцы: total_area, rooms, city_centers_nearest, ceiling_height\n",
    "\n",
    "# Посчитаем долю квартир с площадью более 200 м кв\n",
    "print('Процент квартир с площадью более 200 кв м - {:.2%}'.format(round(len(data.query('total_area > 200')) / len(data), 4)))\n",
    "\n",
    "# Посчитаем долю квартир, где комнат 6 и более\n",
    "print('Процент квартир с кол-вом комнат 6 и более - {:.2%}'.format(round(len(data.query('rooms >= 6')) / len(data), 4)))\n",
    "\n",
    "print()\n",
    "print('Гистограмма высота потолка от 0 до 2,2 м')\n",
    "# построение гистограммы по высоте потолка\n",
    "data['ceiling_height'].hist(bins = 20, range = (0, 2.2))\n",
    "plt.show()\n",
    "\n",
    "# Посчитаем долю квартир по высоте потолка менее 2 м\n",
    "print('Процент квартир с высотой потолка менее 2 м - {:.2%}'.\n",
    "      format(round(len(data.query('ceiling_height <= 2')) / len(data), 4)))\n",
    "\n",
    "print()\n",
    "print('Гистограмма высоты потолка более 4 м')\n",
    "# построение гистограммы по высоте потолка\n",
    "data['ceiling_height'].hist(bins = 20, range = (4, 15))\n",
    "plt.show()\n",
    "\n",
    "# Посчитаем долю квартир по высоте потолка 4 м и более\n",
    "print('Процент квартир с высотой потолка более 4 м - {:.2%}'.\n",
    "      format(round(len(data.query('ceiling_height >= 4')) / len(data), 4)))\n",
    "\n",
    "print()\n",
    "print('Гистограмма по кол-ву фотографий')\n",
    "# построение гистограммы по кол-ву фотографий в объявлении\n",
    "data['total_images'].hist(bins = 20, range = (0, 20))\n",
    "plt.show()\n",
    "\n",
    "# Посчитаем долю квартир по кол-ву фотографий в объявлении\n",
    "print('Процент объявлений, где менее 3 фотогр.- {:.2%}'.\n",
    "      format(round(len(data.query('total_images <= 3')) / len(data), 4)))\n",
    "\n",
    "# создим новый датафрейм с отфильтрованными значениями\n",
    "good_data = data.query('total_area < 200 and rooms < 6 and (2 < ceiling_height < 4) and (total_images > 3)')\n"
   ]
  },
  {
   "cell_type": "markdown",
   "metadata": {},
   "source": [
    "- можно отбросить квартиры с площадью более 200 метров квадр, т к это очень редкие квартиры их доля менее 1% и можно предположить,что это ошибочные данные или не соответствующие действительности \n",
    "- можно отбросить квартиры c 6 и более комнатами, т к это очень редкие квартиры их доля менее 1% и можно предположить,что это ошибочные данные или не соответствующие действительности\n",
    "- можно отбросить квартиры с высотой потолка менее 2 м, т к это очень редкие квартиры их доля менее 1% и можно предположить,что это ошибочные данные\n",
    "- можно отбросить квартиры с высотой потолка 4 м и более, т к это очень редкие квартиры их доля менее 1% и можно предположить,что это ошибочные данные\n",
    "- изучив столбец total_images, мы пришли к выводу, что малое кол-во фотографий - это сомнительно. Без фотографий невозможно оценить квартиру. Уберем объявления с малым кол-вом фотографий, где всего 3 фотогр. Т к это может свидетельствовать об мошенничестве."
   ]
  },
  {
   "cell_type": "markdown",
   "metadata": {},
   "source": [
    "#### Факторы влияющие на стоимость квартиры"
   ]
  },
  {
   "cell_type": "code",
   "execution_count": 18,
   "metadata": {},
   "outputs": [
    {
     "name": "stdout",
     "output_type": "stream",
     "text": [
      "Средняя взаимосвязь 0.65, между total_area и last_price.\n",
      "Слабая взаимосвязь 0.36, между rooms и last_price.\n",
      "Слабая взаимосвязь -0.26, между city_centers_nearest и last_price.\n"
     ]
    },
    {
     "data": {
      "image/png": "[encoded data removed]",
      "text/plain": [
       "<Figure size 432x288 with 1 Axes>"
      ]
     },
     "metadata": {
      "needs_background": "light"
     },
     "output_type": "display_data"
    },
    {
     "data": {
      "image/png": "[encoded data removed]",
      "text/plain": [
       "<Figure size 432x288 with 1 Axes>"
      ]
     },
     "metadata": {
      "needs_background": "light"
     },
     "output_type": "display_data"
    },
    {
     "data": {
      "image/png": "[encoded data removed]",
      "text/plain": [
       "<Figure size 432x288 with 1 Axes>"
      ]
     },
     "metadata": {
      "needs_background": "light"
     },
     "output_type": "display_data"
    }
   ],
   "source": [
    "# рассмотрим влияние на стоимость квартиры площади, кол-ва комнат и удаленность от центра \n",
    "def corr_price(dt, col_1, col_2):\n",
    "    cor = dt[col_1].corr(dt[col_2])\n",
    "    \n",
    "    if abs(cor) <= 0.2:\n",
    "        print('Очень слабая взаимосвязь {}, между {} и {}.'.format(round(cor, 2), col_1, col_2))\n",
    "    elif abs(cor) <= 0.5:\n",
    "        print('Слабая взаимосвязь {}, между {} и {}.'.format(round(cor, 2), col_1, col_2))\n",
    "    elif abs(cor) <= 0.7:\n",
    "        print('Средняя взаимосвязь {}, между {} и {}.'.format(round(cor, 2), col_1, col_2))\n",
    "    elif abs(cor) <= 0.9:\n",
    "        print('Высокая взаимосвязь {}, между {} и {}.'.format(round(cor, 2), col_1, col_2))\n",
    "    elif abs(cor) > 0.9:\n",
    "        print('Очень высокая взаимосвязь {}, между {} и {}.'.format(round(cor, 2), col_1, col_2))\n",
    "    \n",
    "    dt.plot(x=col_1, y=col_2, kind='scatter', grid = True) \n",
    "\n",
    "\n",
    "corr_price(good_data, 'total_area', 'last_price')\n",
    "corr_price(good_data, 'rooms', 'last_price')\n",
    "corr_price(good_data, 'city_centers_nearest', 'last_price')\n"
   ]
  },
  {
   "cell_type": "markdown",
   "metadata": {},
   "source": [
    "- между стоимостью и площадью средняя положительная корреляция- 0.65, с увеличением площади стоимость квартиры растет уже не так сильно\n",
    "- между стоимостью и кол-вом комнат имеется слабая положительная корреляция - 0.36, стоимость растет до 3-х комнатных квартир квартир\n",
    "- между стоимостью и удаленностью от центра имеется слабая отрицательная корреляция - (-0.26). С увеличением расстояния стоимость квартир падает.\n",
    "- выделяются 2 квартиры площадью примерно 180 - 185 кв м и расположенные близко к центру города"
   ]
  },
  {
   "cell_type": "code",
   "execution_count": 19,
   "metadata": {},
   "outputs": [
    {
     "data": {
      "image/png": "[encoded data removed]",
      "text/plain": [
       "<Figure size 432x288 with 1 Axes>"
      ]
     },
     "metadata": {
      "needs_background": "light"
     },
     "output_type": "display_data"
    }
   ],
   "source": [
    "# рассмотрим влияния на стоимость квартиры от этажа \n",
    "corr_floor = good_data.pivot_table(index = 'floor_category', values = 'last_price', aggfunc = ['median', 'mean'])\n",
    "corr_floor.plot(kind='bar', grid = True, legend = True)\n",
    "plt.title('floor_category - last_price')\n",
    "plt.ylabel('last_price')\n",
    "plt.show()"
   ]
  },
  {
   "cell_type": "markdown",
   "metadata": {},
   "source": [
    "- стоимость на первом этаже ниже, чем на последнем. Более дорогие квартиры расположены не на первом и не на последнем этажах"
   ]
  },
  {
   "cell_type": "code",
   "execution_count": 20,
   "metadata": {
    "scrolled": true
   },
   "outputs": [
    {
     "name": "stdout",
     "output_type": "stream",
     "text": [
      "Очень слабая взаимосвязь -0.01413\n",
      "Очень слабая взаимосвязь -0.00039\n",
      "Очень слабая взаимосвязь -0.03031\n"
     ]
    },
    {
     "data": {
      "image/png": "[encoded data removed]",
      "text/plain": [
       "<Figure size 432x288 with 1 Axes>"
      ]
     },
     "metadata": {
      "needs_background": "light"
     },
     "output_type": "display_data"
    },
    {
     "data": {
      "image/png": "[encoded data removed]",
      "text/plain": [
       "<Figure size 432x288 with 1 Axes>"
      ]
     },
     "metadata": {
      "needs_background": "light"
     },
     "output_type": "display_data"
    },
    {
     "data": {
      "image/png": "[encoded data removed]",
      "text/plain": [
       "<Figure size 432x288 with 1 Axes>"
      ]
     },
     "metadata": {
      "needs_background": "light"
     },
     "output_type": "display_data"
    }
   ],
   "source": [
    "# рассмотрим влияние на стоимость квартиры от даты размещения\n",
    "def corr_date(dt, col_1, col_2):\n",
    "    cor = dt[col_1].corr(dt[col_2])\n",
    "    \n",
    "    if abs(cor) <= 0.2:\n",
    "        print('Очень слабая взаимосвязь {}'.format(round(cor, 5)))\n",
    "    elif abs(cor) <= 0.5:\n",
    "        print('Слабая взаимосвязь {}'.format(round(cor, 2)))\n",
    "    elif abs(cor) <= 0.7:\n",
    "        print('Средняя взаимосвязь {}'.format(round(cor, 2)))\n",
    "    elif abs(cor) <= 0.9:\n",
    "        print('Высокая взаимосвязь {}'.format(round(cor, 2)))\n",
    "    elif abs(cor) > 0.9:\n",
    "        print('Очень высокая взаимосвязь {}'.format(round(cor, 2)))\n",
    "    dt.plot(x=col_2, y=col_1, kind = 'scatter', grid = True)\n",
    "    \n",
    "    \n",
    "corr_date(good_data, 'last_price', 'weekday') \n",
    "corr_date(good_data, 'last_price', 'month') \n",
    "corr_date(good_data, 'last_price', 'year') \n"
   ]
  },
  {
   "cell_type": "markdown",
   "metadata": {},
   "source": [
    "- между стоимостью и днями недели, месяца или года корреляция отсутствует. Можно сказать, что даты никак не влияют на стоимость квартир"
   ]
  },
  {
   "cell_type": "markdown",
   "metadata": {},
   "source": [
    "#### Найдем 10 населенных пунктов с наибольшим числом объявлений"
   ]
  },
  {
   "cell_type": "code",
   "execution_count": 21,
   "metadata": {},
   "outputs": [
    {
     "data": {
      "text/html": [
       "<div>\n",
       "<style scoped>\n",
       "    .dataframe tbody tr th:only-of-type {\n",
       "        vertical-align: middle;\n",
       "    }\n",
       "\n",
       "    .dataframe tbody tr th {\n",
       "        vertical-align: top;\n",
       "    }\n",
       "\n",
       "    .dataframe thead th {\n",
       "        text-align: right;\n",
       "    }\n",
       "</style>\n",
       "<table border=\"1\" class=\"dataframe\">\n",
       "  <thead>\n",
       "    <tr style=\"text-align: right;\">\n",
       "      <th></th>\n",
       "      <th>count</th>\n",
       "      <th>count_squa_met</th>\n",
       "      <th>median</th>\n",
       "      <th>median_squa_met</th>\n",
       "      <th>mean</th>\n",
       "      <th>mean_squa_met</th>\n",
       "    </tr>\n",
       "    <tr>\n",
       "      <th>locality_name</th>\n",
       "      <th></th>\n",
       "      <th></th>\n",
       "      <th></th>\n",
       "      <th></th>\n",
       "      <th></th>\n",
       "      <th></th>\n",
       "    </tr>\n",
       "  </thead>\n",
       "  <tbody>\n",
       "    <tr>\n",
       "      <td>Санкт-Петербург</td>\n",
       "      <td>13312</td>\n",
       "      <td>13312</td>\n",
       "      <td>5500000.0</td>\n",
       "      <td>105051.5</td>\n",
       "      <td>7.226677e+06</td>\n",
       "      <td>113743.669847</td>\n",
       "    </tr>\n",
       "    <tr>\n",
       "      <td>посёлок Мурино</td>\n",
       "      <td>424</td>\n",
       "      <td>424</td>\n",
       "      <td>3450000.0</td>\n",
       "      <td>85890.0</td>\n",
       "      <td>3.747651e+06</td>\n",
       "      <td>85943.431604</td>\n",
       "    </tr>\n",
       "    <tr>\n",
       "      <td>посёлок Шушары</td>\n",
       "      <td>347</td>\n",
       "      <td>347</td>\n",
       "      <td>4000000.0</td>\n",
       "      <td>78758.0</td>\n",
       "      <td>4.201426e+06</td>\n",
       "      <td>80634.625360</td>\n",
       "    </tr>\n",
       "    <tr>\n",
       "      <td>Всеволожск</td>\n",
       "      <td>341</td>\n",
       "      <td>341</td>\n",
       "      <td>3480000.0</td>\n",
       "      <td>66666.0</td>\n",
       "      <td>3.776572e+06</td>\n",
       "      <td>68116.096774</td>\n",
       "    </tr>\n",
       "    <tr>\n",
       "      <td>Пушкин</td>\n",
       "      <td>298</td>\n",
       "      <td>298</td>\n",
       "      <td>5350000.0</td>\n",
       "      <td>100763.5</td>\n",
       "      <td>6.258026e+06</td>\n",
       "      <td>103922.587248</td>\n",
       "    </tr>\n",
       "    <tr>\n",
       "      <td>Колпино</td>\n",
       "      <td>272</td>\n",
       "      <td>272</td>\n",
       "      <td>3670000.0</td>\n",
       "      <td>75174.5</td>\n",
       "      <td>3.900998e+06</td>\n",
       "      <td>75716.209559</td>\n",
       "    </tr>\n",
       "    <tr>\n",
       "      <td>посёлок Парголово</td>\n",
       "      <td>269</td>\n",
       "      <td>269</td>\n",
       "      <td>4199000.0</td>\n",
       "      <td>92282.0</td>\n",
       "      <td>4.591477e+06</td>\n",
       "      <td>91663.639405</td>\n",
       "    </tr>\n",
       "    <tr>\n",
       "      <td>Гатчина</td>\n",
       "      <td>265</td>\n",
       "      <td>265</td>\n",
       "      <td>3150000.0</td>\n",
       "      <td>68429.0</td>\n",
       "      <td>3.535975e+06</td>\n",
       "      <td>69009.309434</td>\n",
       "    </tr>\n",
       "    <tr>\n",
       "      <td>деревня Кудрово</td>\n",
       "      <td>243</td>\n",
       "      <td>243</td>\n",
       "      <td>3745000.0</td>\n",
       "      <td>92643.0</td>\n",
       "      <td>4.235680e+06</td>\n",
       "      <td>92728.687243</td>\n",
       "    </tr>\n",
       "    <tr>\n",
       "      <td>Выборг</td>\n",
       "      <td>221</td>\n",
       "      <td>221</td>\n",
       "      <td>2900000.0</td>\n",
       "      <td>58307.0</td>\n",
       "      <td>3.263647e+06</td>\n",
       "      <td>58290.416290</td>\n",
       "    </tr>\n",
       "  </tbody>\n",
       "</table>\n",
       "</div>"
      ],
      "text/plain": [
       "                   count  count_squa_met     median  median_squa_met  \\\n",
       "locality_name                                                          \n",
       "Санкт-Петербург    13312           13312  5500000.0         105051.5   \n",
       "посёлок Мурино       424             424  3450000.0          85890.0   \n",
       "посёлок Шушары       347             347  4000000.0          78758.0   \n",
       "Всеволожск           341             341  3480000.0          66666.0   \n",
       "Пушкин               298             298  5350000.0         100763.5   \n",
       "Колпино              272             272  3670000.0          75174.5   \n",
       "посёлок Парголово    269             269  4199000.0          92282.0   \n",
       "Гатчина              265             265  3150000.0          68429.0   \n",
       "деревня Кудрово      243             243  3745000.0          92643.0   \n",
       "Выборг               221             221  2900000.0          58307.0   \n",
       "\n",
       "                           mean  mean_squa_met  \n",
       "locality_name                                   \n",
       "Санкт-Петербург    7.226677e+06  113743.669847  \n",
       "посёлок Мурино     3.747651e+06   85943.431604  \n",
       "посёлок Шушары     4.201426e+06   80634.625360  \n",
       "Всеволожск         3.776572e+06   68116.096774  \n",
       "Пушкин             6.258026e+06  103922.587248  \n",
       "Колпино            3.900998e+06   75716.209559  \n",
       "посёлок Парголово  4.591477e+06   91663.639405  \n",
       "Гатчина            3.535975e+06   69009.309434  \n",
       "деревня Кудрово    4.235680e+06   92728.687243  \n",
       "Выборг             3.263647e+06   58290.416290  "
      ]
     },
     "metadata": {},
     "output_type": "display_data"
    },
    {
     "data": {
      "image/png": "[encoded data removed]",
      "text/plain": [
       "<Figure size 432x288 with 1 Axes>"
      ]
     },
     "metadata": {
      "needs_background": "light"
     },
     "output_type": "display_data"
    },
    {
     "data": {
      "image/png": "[encoded data removed]",
      "text/plain": [
       "<Figure size 432x288 with 1 Axes>"
      ]
     },
     "metadata": {
      "needs_background": "light"
     },
     "output_type": "display_data"
    }
   ],
   "source": [
    "# отберем 10 населенных пунктов с наибольшим числом объявлений\n",
    "locality_table = good_data.pivot_table(index = 'locality_name', \n",
    "                                       values = ['last_price', 'square_meter'], aggfunc = ['count','median', 'mean'])\n",
    "\n",
    "locality_table.columns = ['count', 'count_squa_met', 'median', 'median_squa_met', 'mean', 'mean_squa_met']\n",
    "locality_table_10 = locality_table.sort_values(by = 'count', ascending=False).head(10)\n",
    "display(locality_table_10)\n",
    "\n",
    "locality_table_10.plot(y = ['median', 'mean'], kind='bar', grid = True, \n",
    "                       legend = True, title = 'Стоимость квартир')\n",
    "\n",
    "plt.ylabel('last_price')\n",
    "plt.show()\n",
    "\n",
    "locality_table_10.plot(y = ['median_squa_met', 'mean_squa_met'], kind='bar', grid = True, \n",
    "                       legend = True, title = 'Стоимость квадратного метра')\n",
    "plt.ylabel('square_meter')\n",
    "plt.show()"
   ]
  },
  {
   "cell_type": "markdown",
   "metadata": {},
   "source": [
    "- стоимость квартир в Санкт-Петербурге по медиане немного дороже, чем в Пушкино, а по средн. арифметич. разрыв гораздо больше;\n",
    "- по стоимости за кв м ситуация аналогична, лишь в СПБ и Пушкино цена более 100 тыс за кв м;\n",
    "- по всей полученным цифрам самая дешевая недвижимость в Выборге, цена кв м меньше 60 тыс за кв м."
   ]
  },
  {
   "cell_type": "code",
   "execution_count": 22,
   "metadata": {},
   "outputs": [
    {
     "name": "stderr",
     "output_type": "stream",
     "text": [
      "/opt/conda/lib/python3.7/site-packages/ipykernel_launcher.py:2: SettingWithCopyWarning: \n",
      "A value is trying to be set on a copy of a slice from a DataFrame.\n",
      "Try using .loc[row_indexer,col_indexer] = value instead\n",
      "\n",
      "See the caveats in the documentation: http://pandas.pydata.org/pandas-docs/stable/user_guide/indexing.html#returning-a-view-versus-a-copy\n",
      "  \n"
     ]
    },
    {
     "data": {
      "text/html": [
       "<div>\n",
       "<style scoped>\n",
       "    .dataframe tbody tr th:only-of-type {\n",
       "        vertical-align: middle;\n",
       "    }\n",
       "\n",
       "    .dataframe tbody tr th {\n",
       "        vertical-align: top;\n",
       "    }\n",
       "\n",
       "    .dataframe thead th {\n",
       "        text-align: right;\n",
       "    }\n",
       "</style>\n",
       "<table border=\"1\" class=\"dataframe\">\n",
       "  <thead>\n",
       "    <tr style=\"text-align: right;\">\n",
       "      <th></th>\n",
       "      <th>total_images</th>\n",
       "      <th>last_price</th>\n",
       "      <th>total_area</th>\n",
       "      <th>first_day_exposition</th>\n",
       "      <th>rooms</th>\n",
       "      <th>ceiling_height</th>\n",
       "      <th>floors_total</th>\n",
       "      <th>living_area</th>\n",
       "      <th>floor</th>\n",
       "      <th>is_apartment</th>\n",
       "      <th>...</th>\n",
       "      <th>ponds_nearest</th>\n",
       "      <th>days_exposition</th>\n",
       "      <th>square_meter</th>\n",
       "      <th>weekday</th>\n",
       "      <th>month</th>\n",
       "      <th>year</th>\n",
       "      <th>floor_category</th>\n",
       "      <th>ratio_liv_total</th>\n",
       "      <th>ratio_kitch_total</th>\n",
       "      <th>city_cent_near_km</th>\n",
       "    </tr>\n",
       "  </thead>\n",
       "  <tbody>\n",
       "    <tr>\n",
       "      <td>0</td>\n",
       "      <td>20</td>\n",
       "      <td>13000000.0</td>\n",
       "      <td>108.0</td>\n",
       "      <td>2019-03-07</td>\n",
       "      <td>3</td>\n",
       "      <td>2.70</td>\n",
       "      <td>16</td>\n",
       "      <td>51.0</td>\n",
       "      <td>8</td>\n",
       "      <td>False</td>\n",
       "      <td>...</td>\n",
       "      <td>0.76</td>\n",
       "      <td>NaN</td>\n",
       "      <td>120370</td>\n",
       "      <td>3</td>\n",
       "      <td>3</td>\n",
       "      <td>2019</td>\n",
       "      <td>другой</td>\n",
       "      <td>0.47</td>\n",
       "      <td>0.23</td>\n",
       "      <td>16.0</td>\n",
       "    </tr>\n",
       "    <tr>\n",
       "      <td>1</td>\n",
       "      <td>7</td>\n",
       "      <td>3350000.0</td>\n",
       "      <td>40.4</td>\n",
       "      <td>2018-12-04</td>\n",
       "      <td>1</td>\n",
       "      <td>2.65</td>\n",
       "      <td>11</td>\n",
       "      <td>18.6</td>\n",
       "      <td>1</td>\n",
       "      <td>False</td>\n",
       "      <td>...</td>\n",
       "      <td>NaN</td>\n",
       "      <td>81.0</td>\n",
       "      <td>82920</td>\n",
       "      <td>1</td>\n",
       "      <td>12</td>\n",
       "      <td>2018</td>\n",
       "      <td>первый</td>\n",
       "      <td>0.46</td>\n",
       "      <td>0.27</td>\n",
       "      <td>19.0</td>\n",
       "    </tr>\n",
       "    <tr>\n",
       "      <td>2</td>\n",
       "      <td>10</td>\n",
       "      <td>5196000.0</td>\n",
       "      <td>56.0</td>\n",
       "      <td>2015-08-20</td>\n",
       "      <td>2</td>\n",
       "      <td>2.65</td>\n",
       "      <td>5</td>\n",
       "      <td>34.3</td>\n",
       "      <td>4</td>\n",
       "      <td>False</td>\n",
       "      <td>...</td>\n",
       "      <td>0.57</td>\n",
       "      <td>558.0</td>\n",
       "      <td>92785</td>\n",
       "      <td>3</td>\n",
       "      <td>8</td>\n",
       "      <td>2015</td>\n",
       "      <td>другой</td>\n",
       "      <td>0.61</td>\n",
       "      <td>0.15</td>\n",
       "      <td>14.0</td>\n",
       "    </tr>\n",
       "    <tr>\n",
       "      <td>5</td>\n",
       "      <td>10</td>\n",
       "      <td>2890000.0</td>\n",
       "      <td>30.4</td>\n",
       "      <td>2018-09-10</td>\n",
       "      <td>1</td>\n",
       "      <td>2.65</td>\n",
       "      <td>12</td>\n",
       "      <td>14.4</td>\n",
       "      <td>5</td>\n",
       "      <td>False</td>\n",
       "      <td>...</td>\n",
       "      <td>NaN</td>\n",
       "      <td>55.0</td>\n",
       "      <td>95065</td>\n",
       "      <td>0</td>\n",
       "      <td>9</td>\n",
       "      <td>2018</td>\n",
       "      <td>другой</td>\n",
       "      <td>0.47</td>\n",
       "      <td>0.30</td>\n",
       "      <td>NaN</td>\n",
       "    </tr>\n",
       "    <tr>\n",
       "      <td>6</td>\n",
       "      <td>6</td>\n",
       "      <td>3700000.0</td>\n",
       "      <td>37.3</td>\n",
       "      <td>2017-11-02</td>\n",
       "      <td>1</td>\n",
       "      <td>2.65</td>\n",
       "      <td>26</td>\n",
       "      <td>10.6</td>\n",
       "      <td>6</td>\n",
       "      <td>False</td>\n",
       "      <td>...</td>\n",
       "      <td>NaN</td>\n",
       "      <td>155.0</td>\n",
       "      <td>99195</td>\n",
       "      <td>3</td>\n",
       "      <td>11</td>\n",
       "      <td>2017</td>\n",
       "      <td>другой</td>\n",
       "      <td>0.28</td>\n",
       "      <td>0.39</td>\n",
       "      <td>19.0</td>\n",
       "    </tr>\n",
       "  </tbody>\n",
       "</table>\n",
       "<p>5 rows × 30 columns</p>\n",
       "</div>"
      ],
      "text/plain": [
       "   total_images  last_price  total_area first_day_exposition  rooms  \\\n",
       "0            20  13000000.0       108.0           2019-03-07      3   \n",
       "1             7   3350000.0        40.4           2018-12-04      1   \n",
       "2            10   5196000.0        56.0           2015-08-20      2   \n",
       "5            10   2890000.0        30.4           2018-09-10      1   \n",
       "6             6   3700000.0        37.3           2017-11-02      1   \n",
       "\n",
       "   ceiling_height  floors_total  living_area  floor  is_apartment  ...  \\\n",
       "0            2.70            16         51.0      8         False  ...   \n",
       "1            2.65            11         18.6      1         False  ...   \n",
       "2            2.65             5         34.3      4         False  ...   \n",
       "5            2.65            12         14.4      5         False  ...   \n",
       "6            2.65            26         10.6      6         False  ...   \n",
       "\n",
       "   ponds_nearest  days_exposition  square_meter  weekday month  year  \\\n",
       "0           0.76              NaN        120370        3     3  2019   \n",
       "1            NaN             81.0         82920        1    12  2018   \n",
       "2           0.57            558.0         92785        3     8  2015   \n",
       "5            NaN             55.0         95065        0     9  2018   \n",
       "6            NaN            155.0         99195        3    11  2017   \n",
       "\n",
       "   floor_category  ratio_liv_total  ratio_kitch_total  city_cent_near_km  \n",
       "0          другой             0.47               0.23               16.0  \n",
       "1          первый             0.46               0.27               19.0  \n",
       "2          другой             0.61               0.15               14.0  \n",
       "5          другой             0.47               0.30                NaN  \n",
       "6          другой             0.28               0.39               19.0  \n",
       "\n",
       "[5 rows x 30 columns]"
      ]
     },
     "metadata": {},
     "output_type": "display_data"
    }
   ],
   "source": [
    "# создадим ноый столбец city_cent_near_km расстояние от центра переведем в км и округлим до целого числа\n",
    "good_data['city_cent_near_km'] = round(data['city_centers_nearest'], 0)\n",
    "display(good_data.head())"
   ]
  },
  {
   "cell_type": "markdown",
   "metadata": {},
   "source": [
    "#### Определим квартиры относящиеся к центру города"
   ]
  },
  {
   "cell_type": "code",
   "execution_count": 23,
   "metadata": {},
   "outputs": [
    {
     "data": {
      "image/png": "[encoded data removed]",
      "text/plain": [
       "<Figure size 576x432 with 1 Axes>"
      ]
     },
     "metadata": {
      "needs_background": "light"
     },
     "output_type": "display_data"
    }
   ],
   "source": [
    "# Определим квартиры относящиеся к центру города\n",
    "centre_room = good_data.query('locality_name == \"Санкт-Петербург\"')\n",
    "\n",
    "spb_centre = centre_room.pivot_table(index = 'city_cent_near_km', values = 'square_meter', \n",
    "                                       aggfunc = ['median', 'mean'])\n",
    "spb_centre.columns = ['median', 'mean']\n",
    "\n",
    "spb_centre.plot(y = ['median', 'mean'], style = 'o-', grid = True, \n",
    "                legend = True, figsize = (8, 6), title = 'Стоимость кв м на каждый км')\n",
    "plt.ylabel('square_meter')\n",
    "plt.show()\n",
    "\n",
    "# создадим датафрейм с предложениями, которые мы отнесли к центру СПБ\n",
    "centre_room_spb = centre_room.query('city_cent_near_km <= 7')\n"
   ]
  },
  {
   "cell_type": "markdown",
   "metadata": {},
   "source": [
    "- на графике видно, что после 3 км значения сильно возрастают, видимо там расположены какие-то парки, пруды, достопремечательности. Цена растет до 7 км после чего резко падает. Поэтому примем за центр расстояние до 7 км включительно, т к после 7 км цена только падает."
   ]
  },
  {
   "cell_type": "markdown",
   "metadata": {},
   "source": [
    "#### Проанализируем параметры и выделим факторы влияющие на стоимость кавартиры в центре и сравним с данными по всему городу"
   ]
  },
  {
   "cell_type": "code",
   "execution_count": 24,
   "metadata": {},
   "outputs": [
    {
     "data": {
      "image/png": "[encoded data removed]",
      "text/plain": [
       "<Figure size 432x288 with 1 Axes>"
      ]
     },
     "metadata": {
      "needs_background": "light"
     },
     "output_type": "display_data"
    },
    {
     "data": {
      "image/png": "[encoded data removed]",
      "text/plain": [
       "<Figure size 432x288 with 1 Axes>"
      ]
     },
     "metadata": {
      "needs_background": "light"
     },
     "output_type": "display_data"
    },
    {
     "data": {
      "image/png": "[encoded data removed]",
      "text/plain": [
       "<Figure size 432x288 with 1 Axes>"
      ]
     },
     "metadata": {
      "needs_background": "light"
     },
     "output_type": "display_data"
    },
    {
     "data": {
      "image/png": "[encoded data removed]",
      "text/plain": [
       "<Figure size 432x288 with 1 Axes>"
      ]
     },
     "metadata": {
      "needs_background": "light"
     },
     "output_type": "display_data"
    }
   ],
   "source": [
    "# построение гистограммы по площади квартиры\n",
    "centre_room_spb['total_area'].hist(bins = 50)\n",
    "plt.title('Total_area')\n",
    "plt.xlabel('Total_area')\n",
    "plt.ylabel('Count')\n",
    "plt.show()\n",
    "\n",
    "\n",
    "# построение гистограммы по цене квартиры\n",
    "centre_room_spb['last_price'].hist(bins = 50, range = (0, 50000000))\n",
    "plt.title('Last_price')\n",
    "plt.xlabel('Last_price')\n",
    "plt.ylabel('Count')\n",
    "plt.show()\n",
    "\n",
    "# построение гистограммы по кол-ву комнат\n",
    "centre_room_spb['rooms'].hist(bins = 10)\n",
    "plt.title('Rooms')\n",
    "plt.xlabel('Rooms')\n",
    "plt.ylabel('Count')\n",
    "plt.show()\n",
    "\n",
    "# построение гистограммы по высоте потолка\n",
    "centre_room_spb['ceiling_height'].hist(bins = 15)\n",
    "plt.title('Ceiling_height')\n",
    "plt.xlabel('Ceiling_height')\n",
    "plt.ylabel('Count')\n",
    "plt.show()"
   ]
  },
  {
   "cell_type": "markdown",
   "metadata": {},
   "source": [
    "- наиболее часто встречаются квартиры от 35 до 75 м, т е 1, 2 и 3 комнатные, в отличие от анализа всех объявлений, где наиболее часто встречались квартиры с площадью от 28 до 47 м кв, это студии, 1 и 2-х комн. квартиры;\n",
    "- наиболее часто встречаются квартиры стоимостью 6 млн в отличие от анализа всех объявлений, где наиболее часто встречались квартиры стоимостью примерно от 2,8 млн до 4,6 млн;\n",
    "- наиболее часто встречаются квартиры с 2 и 3 комнатами в отличие от анализа всех объявлений, где наиболее часто продаются 1 и 2-ные квартиры;\n",
    "- наиболее часто встречаются квартиры с высотой потолка от 2,6 м и выше, этот показатель примерно равен значениям при анализе всех объявлений\n",
    "- ВЫВОД: \n",
    "    квартиры в центра дороже почти в 2 раза, имеют больше комнат и площадь."
   ]
  },
  {
   "cell_type": "code",
   "execution_count": 25,
   "metadata": {},
   "outputs": [
    {
     "name": "stdout",
     "output_type": "stream",
     "text": [
      "Средняя взаимосвязь 0.55\n",
      "Слабая взаимосвязь 0.25\n",
      "Очень слабая взаимосвязь -0.03\n"
     ]
    },
    {
     "data": {
      "image/png": "[encoded data removed]",
      "text/plain": [
       "<Figure size 432x288 with 1 Axes>"
      ]
     },
     "metadata": {
      "needs_background": "light"
     },
     "output_type": "display_data"
    },
    {
     "data": {
      "image/png": "[encoded data removed]",
      "text/plain": [
       "<Figure size 432x288 with 1 Axes>"
      ]
     },
     "metadata": {
      "needs_background": "light"
     },
     "output_type": "display_data"
    },
    {
     "data": {
      "image/png": "[encoded data removed]",
      "text/plain": [
       "<Figure size 432x288 with 1 Axes>"
      ]
     },
     "metadata": {
      "needs_background": "light"
     },
     "output_type": "display_data"
    }
   ],
   "source": [
    "# рассмотрим влияние на стоимость квартиры площади, кол-ва комнат и удаленность от центра \n",
    "def corr_price_centr(dt, col_1, col_2):\n",
    "    cor = dt[col_1].corr(dt[col_2])\n",
    "    \n",
    "    if abs(cor) <= 0.2:\n",
    "        print('Очень слабая взаимосвязь {}'.format(round(cor, 2)))\n",
    "    elif abs(cor) <= 0.5:\n",
    "        print('Слабая взаимосвязь {}'.format(round(cor, 2)))\n",
    "    elif abs(cor) <= 0.7:\n",
    "        print('Средняя взаимосвязь {}'.format(round(cor, 2)))\n",
    "    elif abs(cor) <= 0.9:\n",
    "        print('Высокая взаимосвязь {}'.format(round(cor, 2)))\n",
    "    elif abs(cor) > 0.9:\n",
    "        print('Очень высокая взаимосвязь {}'.format(round(cor, 2)))\n",
    "    dt.plot(x = col_1, y = col_2, kind='scatter', grid = True)\n",
    "    \n",
    "\n",
    "corr_price_centr(centre_room_spb, 'total_area', 'last_price')\n",
    "corr_price_centr(centre_room_spb, 'rooms', 'last_price')\n",
    "corr_price_centr(centre_room_spb, 'city_centers_nearest', 'last_price')\n"
   ]
  },
  {
   "cell_type": "markdown",
   "metadata": {},
   "source": [
    "- между стоимостью и площадью средняя положительная корреляция- 0.55, что меньше чем в раннее проведенном анализе (0,65). Цены еще меньше зависят от увеличения площади квартиры;\n",
    "- между стоимостью и кол-вом комнат слабая положительная корреляция - 0.25, что меньше чем в раннее проведенном анализе (0,36). Цены еще меньше зависят от увеличения кол-ва комнат;\n",
    "- между стоимостью и удаленностью от центра имеется очень слабая отрицательная корреляция - (-0,03), что меньше чем в раннее проведенном анализе (-0,24). Цены почти не зависят от удаленности от центра. Это объяснимо, ведь мы и рассматриваем центр города;"
   ]
  },
  {
   "cell_type": "code",
   "execution_count": 26,
   "metadata": {},
   "outputs": [
    {
     "data": {
      "image/png": "[encoded data removed]",
      "text/plain": [
       "<Figure size 432x288 with 1 Axes>"
      ]
     },
     "metadata": {
      "needs_background": "light"
     },
     "output_type": "display_data"
    }
   ],
   "source": [
    "# рассмотрим влияния на стоимость квартиры от этажа \n",
    "corr_floor_centr = centre_room_spb.pivot_table(index = 'floor_category', values = 'last_price', aggfunc = ['median', 'mean'])\n",
    "corr_floor_centr.plot(kind='bar', grid = True, legend = True)\n",
    "plt.title('floor_category-last_price')\n",
    "plt.ylabel('last_price')\n",
    "plt.show()"
   ]
  },
  {
   "cell_type": "markdown",
   "metadata": {},
   "source": [
    "- стоимость на первом этаже ниже, чем на последнем. Более дорогие квартиры расположены не на первом и не на последнем этажах. Здесь данные аналогичны тем, что и в раннее проведенном анализе."
   ]
  },
  {
   "cell_type": "code",
   "execution_count": 27,
   "metadata": {},
   "outputs": [
    {
     "name": "stdout",
     "output_type": "stream",
     "text": [
      "Очень слабая взаимосвязь -0.00953\n",
      "Очень слабая взаимосвязь -0.02487\n",
      "Очень слабая взаимосвязь -0.01656\n"
     ]
    },
    {
     "data": {
      "image/png": "[encoded data removed]",
      "text/plain": [
       "<Figure size 432x288 with 1 Axes>"
      ]
     },
     "metadata": {
      "needs_background": "light"
     },
     "output_type": "display_data"
    },
    {
     "data": {
      "image/png": "[encoded data removed]",
      "text/plain": [
       "<Figure size 432x288 with 1 Axes>"
      ]
     },
     "metadata": {
      "needs_background": "light"
     },
     "output_type": "display_data"
    },
    {
     "data": {
      "image/png": "[encoded data removed]",
      "text/plain": [
       "<Figure size 432x288 with 1 Axes>"
      ]
     },
     "metadata": {
      "needs_background": "light"
     },
     "output_type": "display_data"
    }
   ],
   "source": [
    "# рассмотрим влияние на стоимость квартиры от даты размещения\n",
    "def corr_date_centr(dt, col_1, col_2):\n",
    "    cor = dt[col_1].corr(dt[col_2])\n",
    "    \n",
    "    if abs(cor) <= 0.2:\n",
    "        print('Очень слабая взаимосвязь {}'.format(round(cor, 5)))\n",
    "    elif abs(cor) <= 0.5:\n",
    "        print('Слабая взаимосвязь {}'.format(round(cor, 2)))\n",
    "    elif abs(cor) <= 0.7:\n",
    "        print('Средняя взаимосвязь {}'.format(round(cor, 2)))\n",
    "    elif abs(cor) <= 0.9:\n",
    "        print('Высокая взаимосвязь {}'.format(round(cor, 2)))\n",
    "    elif abs(cor) > 0.9:\n",
    "        print('Очень высокая взаимосвязь {}'.format(round(cor, 2)))\n",
    "    dt.plot(x=col_1, y=col_2, kind = 'scatter', grid = True)\n",
    "    \n",
    "    \n",
    "corr_date_centr(centre_room_spb, 'last_price', 'weekday') \n",
    "corr_date_centr(centre_room_spb, 'last_price', 'month') \n",
    "corr_date_centr(centre_room_spb, 'last_price', 'year') "
   ]
  },
  {
   "cell_type": "markdown",
   "metadata": {},
   "source": [
    "- между стоимостью и днями недели, месяца или года корреляция отсутствует. Точно также, что и в раннее проведенном анализе."
   ]
  },
  {
   "cell_type": "markdown",
   "metadata": {},
   "source": [
    "### Шаг 5. Общий вывод"
   ]
  },
  {
   "cell_type": "markdown",
   "metadata": {},
   "source": [
    "- на стоимость квартиры большего всего влияет площадь квартиры, гораздо меньшее влияние оказыват кол-во комнат; \n",
    "- по мере удаления от центра города цена ожидаемо снижается; \n",
    "- дата размещения объявлений никак не влияет на цену;\n",
    "- по этажности видно, что самые дешевые предложения по квартирам на 1 этаже, самые дорогие на этажах между 1 и последним; \n",
    "- среди 10 населенных пунктах самый дорогой квадр метр в СПБ и Пушкино, свыше 100 тыс за кв м;\n",
    "- среди 10 населенных пунктах самый дешевый квадр метр в Выборге, ниже 60 тыс за кв м.\n"
   ]
  },
  {
   "cell_type": "markdown",
   "metadata": {},
   "source": [
    "### Чек-лист готовности проекта\n",
    "\n",
    "Поставьте 'x' в выполненных пунктах. Далее нажмите Shift+Enter."
   ]
  },
  {
   "cell_type": "markdown",
   "metadata": {},
   "source": [
    "- [x]  открыт файл\n",
    "- [x]  файлы изучены (выведены первые строки, метод info())\n",
    "- [x]  определены пропущенные значения\n",
    "- [x]  заполнены пропущенные значения\n",
    "- [x]  есть пояснение, какие пропущенные значения обнаружены\n",
    "- [x]  изменены типы данных\n",
    "- [x]  есть пояснение, в каких столбцах изменены типы и почему\n",
    "- [x]  посчитано и добавлено в таблицу: цена квадратного метра\n",
    "- [x]  посчитано и добавлено в таблицу: день недели, месяц и год публикации объявления\n",
    "- [x]  посчитано и добавлено в таблицу: этаж квартиры; варианты — первый, последний, другой\n",
    "- [x]  посчитано и добавлено в таблицу: соотношение жилой и общей площади, а также отношение площади кухни к общей\n",
    "- [x]  изучены следующие параметры: площадь, цена, число комнат, высота потолков\n",
    "- [x]  построены гистограммы для каждого параметра\n",
    "- [x]  выполнено задание: \"Изучите время продажи квартиры. Постройте гистограмму. Посчитайте среднее и медиану. Опишите, сколько обычно занимает продажа. Когда можно считать, что продажи прошли очень быстро, а когда необычно долго?\"\n",
    "- [x]  выполнено задание: \"Уберите редкие и выбивающиеся значения. Опишите, какие особенности обнаружили.\"\n",
    "- [x]  выполнено задание: \"Какие факторы больше всего влияют на стоимость квартиры? Изучите, зависит ли цена от квадратного метра, числа комнат, этажа (первого или последнего), удалённости от центра. Также изучите зависимость от даты размещения: дня недели, месяца и года. \"Выберите 10 населённых пунктов с наибольшим числом объявлений. Посчитайте среднюю цену квадратного метра в этих населённых пунктах. Выделите населённые пункты с самой высокой и низкой стоимостью жилья. Эти данные можно найти по имени в столбце '*locality_name'*. \"\n",
    "- [x]  выполнено задание: \"Изучите предложения квартир: для каждой квартиры есть информация о расстоянии до центра. Выделите квартиры в Санкт-Петербурге (*'locality_name'*). Ваша задача — выяснить, какая область входит в центр. Создайте столбец с расстоянием до центра в километрах: округлите до целых значений. После этого посчитайте среднюю цену для каждого километра. Постройте график: он должен показывать, как цена зависит от удалённости от центра. Определите границу, где график сильно меняется — это и будет центральная зона. \"\n",
    "- [x]  выполнено задание: \"Выделите сегмент квартир в центре. Проанализируйте эту территорию и изучите следующие параметры: площадь, цена, число комнат, высота потолков. Также выделите факторы, которые влияют на стоимость квартиры (число комнат, этаж, удалённость от центра, дата размещения объявления). Сделайте выводы. Отличаются ли они от общих выводов по всему городу?\"\n",
    "- [x]  в каждом этапе есть выводы\n",
    "- [x]  есть общий вывод"
   ]
  },
  {
   "cell_type": "code",
   "execution_count": null,
   "metadata": {},
   "outputs": [],
   "source": []
  }
 ],
 "metadata": {
  "kernelspec": {
   "display_name": "Python 3",
   "language": "python",
   "name": "python3"
  },
  "language_info": {
   "codemirror_mode": {
    "name": "ipython",
    "version": 3
   },
   "file_extension": ".py",
   "mimetype": "text/x-python",
   "name": "python",
   "nbconvert_exporter": "python",
   "pygments_lexer": "ipython3",
   "version": "3.7.8"
  },
  "toc": {
   "base_numbering": 1,
   "nav_menu": {},
   "number_sections": true,
   "sideBar": true,
   "skip_h1_title": true,
   "title_cell": "Table of Contents",
   "title_sidebar": "Contents",
   "toc_cell": false,
   "toc_position": {},
   "toc_section_display": true,
   "toc_window_display": false
  }
 },
 "nbformat": 4,
 "nbformat_minor": 2
}
